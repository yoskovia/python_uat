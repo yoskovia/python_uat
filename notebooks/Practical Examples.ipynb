{
 "cells": [
  {
   "cell_type": "markdown",
   "id": "worthy-allen",
   "metadata": {},
   "source": [
    "# Practical Examples"
   ]
  },
  {
   "cell_type": "markdown",
   "id": "opponent-balloon",
   "metadata": {},
   "source": [
    "### Formatting Column Names: Turning `AMERICAN_INDIAN_ENROLLMENT` into `American Indian`"
   ]
  },
  {
   "cell_type": "code",
   "execution_count": null,
   "id": "operating-syndicate",
   "metadata": {},
   "outputs": [],
   "source": [
    "import pandas as pd\n",
    "\n",
    "dat = {'AMERICAN_INDIAN_ENROLLMENT': 'American Indian',\n",
    "       'ASIAN_ENROLLMENT': 'Asian',\n",
    "       'AFRICAN_AMERICAN_ENROLLMENT': 'African American',\n",
    "       'HISPANIC_ENROLLMENT': 'Hispanic',\n",
    "       'HAWAIIAN_ENROLLMENT': 'Hawaiian',\n",
    "       'WHITE_ENROLLMENT': 'White',\n",
    "       'TWO_OR_MORE_RACES_ENROLLMENT': 'Two or More Races'}\n",
    "\n",
    "df = (\n",
    "    pd.DataFrame.from_dict(dat, orient='index')\n",
    "    .reset_index()\n",
    "    .rename(columns={'index':'my_name', 0:'wanted_name'})\n",
    ")\n",
    "df"
   ]
  },
  {
   "cell_type": "code",
   "execution_count": null,
   "id": "defined-trunk",
   "metadata": {},
   "outputs": [],
   "source": [
    "'AMERICAN_INDIAN_ENROLLMENT'.replace('_', ' ').title().replace(' Enrollment', '')"
   ]
  },
  {
   "cell_type": "markdown",
   "id": "equivalent-utilization",
   "metadata": {},
   "source": [
    "Apply the above processing to each row of the dataset with `apply`."
   ]
  },
  {
   "cell_type": "code",
   "execution_count": null,
   "id": "specialized-antenna",
   "metadata": {},
   "outputs": [],
   "source": [
    "df['my_name'].apply(lambda x: x.replace('_', ' ').title().replace(' Enrollment', ''))"
   ]
  },
  {
   "cell_type": "markdown",
   "id": "outstanding-renaissance",
   "metadata": {},
   "source": [
    "Most of them look good, except for the \"Two Or More Races\" category doesn't need the 'O' capitalized. I'll create a function that uses an if statement to deal with this."
   ]
  },
  {
   "cell_type": "code",
   "execution_count": null,
   "id": "conscious-cheat",
   "metadata": {},
   "outputs": [],
   "source": [
    "def clean_name(name):\n",
    "    \"\"\" Clean up race names. \n",
    "    \n",
    "    >>> clean_name('HAWAIIAN_ENROLLMENT')\n",
    "    Hawaiian\n",
    "    \"\"\"\n",
    "    if name == 'TWO_OR_MORE_RACES_ENROLLMENT':\n",
    "        return 'Two or More Races'\n",
    "    \n",
    "    return (\n",
    "        name.replace('_', ' ').title().replace(' Enrollment', '')\n",
    "    )"
   ]
  },
  {
   "cell_type": "code",
   "execution_count": null,
   "id": "inappropriate-catalyst",
   "metadata": {},
   "outputs": [],
   "source": [
    "help(clean_name)"
   ]
  },
  {
   "cell_type": "code",
   "execution_count": null,
   "id": "biological-lesson",
   "metadata": {},
   "outputs": [],
   "source": [
    "df['my_name'].apply(clean_name)"
   ]
  },
  {
   "cell_type": "code",
   "execution_count": null,
   "id": "reserved-contest",
   "metadata": {},
   "outputs": [],
   "source": [
    "df.assign(cleaned = lambda x: x['my_name'].apply(clean_name))"
   ]
  },
  {
   "cell_type": "markdown",
   "id": "rural-housing",
   "metadata": {},
   "source": [
    "<br>\n",
    "<br>\n",
    "<br>\n",
    "<br>\n",
    "<br>"
   ]
  },
  {
   "cell_type": "markdown",
   "id": "special-latter",
   "metadata": {},
   "source": [
    "### Multiple String Or: Find records where the `animals` column contains _any_ of the strings in `wanted_animals`"
   ]
  },
  {
   "cell_type": "code",
   "execution_count": null,
   "id": "lesser-australian",
   "metadata": {},
   "outputs": [],
   "source": [
    "wanted_animals = ['cats', 'dogs']\n",
    "\n",
    "df = pd.DataFrame({\n",
    "    'name':['bob', 'jim', 'steve'],\n",
    "    'animals':['cats, dogs, turtles', 'dogs', 'turtles']\n",
    "});\n",
    "display(df)"
   ]
  },
  {
   "cell_type": "code",
   "execution_count": null,
   "id": "electoral-fruit",
   "metadata": {},
   "outputs": [],
   "source": [
    "print(f'Finding: {wanted_animals}')\n",
    "print('Output Frame')\n",
    "(\n",
    "    df.loc[lambda x: x['animals'].apply(lambda x: \n",
    "        any([name in x for name in wanted_animals])\n",
    "    )]\n",
    ")"
   ]
  },
  {
   "cell_type": "code",
   "execution_count": null,
   "id": "danish-extension",
   "metadata": {},
   "outputs": [],
   "source": [
    "any([False, True])"
   ]
  },
  {
   "cell_type": "code",
   "execution_count": null,
   "id": "choice-bidder",
   "metadata": {},
   "outputs": [],
   "source": [
    "any([False, False])"
   ]
  },
  {
   "cell_type": "code",
   "execution_count": null,
   "id": "silent-shakespeare",
   "metadata": {},
   "outputs": [],
   "source": [
    "all([True, True])"
   ]
  },
  {
   "cell_type": "code",
   "execution_count": null,
   "id": "caring-parcel",
   "metadata": {},
   "outputs": [],
   "source": [
    "all([False, True])"
   ]
  },
  {
   "cell_type": "markdown",
   "id": "russian-horse",
   "metadata": {},
   "source": [
    "<br>\n",
    "<br>\n",
    "<br>\n",
    "<br>\n",
    "<br>"
   ]
  },
  {
   "cell_type": "markdown",
   "id": "cooperative-surface",
   "metadata": {},
   "source": [
    "### Table Styling"
   ]
  },
  {
   "cell_type": "code",
   "execution_count": null,
   "id": "forward-width",
   "metadata": {},
   "outputs": [],
   "source": [
    "import seaborn as sns\n",
    "# sns.get_dataset_names()\n",
    "gammas = sns.load_dataset('gammas').head(20)\n",
    "display(gammas.head())\n",
    "# Styler \n",
    "gammas.head().style.set_properties(**{\n",
    "                            'background-color': 'green',\n",
    "                            'color': 'white'\n",
    "})"
   ]
  },
  {
   "cell_type": "code",
   "execution_count": null,
   "id": "lesser-advance",
   "metadata": {},
   "outputs": [],
   "source": [
    "(\n",
    "    gammas\n",
    "    .sort_values(by='BOLD signal')\n",
    "    .style.bar(subset='BOLD signal', align='mid', color=['green', 'red'])\n",
    ")"
   ]
  },
  {
   "cell_type": "code",
   "execution_count": null,
   "id": "running-equilibrium",
   "metadata": {},
   "outputs": [],
   "source": [
    "def highlight_max(s):\n",
    "    \"\"\"\n",
    "    Highlight the maximum in a Series green.\n",
    "    \"\"\"\n",
    "    is_max = s == s.max()\n",
    "    return ['background-color: green' if v else '' for v in is_max]\n",
    "\n",
    "def highlight_min(s):\n",
    "    \"\"\"\n",
    "    Highlight the minimum in a Series red.\n",
    "    \"\"\"\n",
    "    is_min = s == s.min()\n",
    "    return ['background-color: red' if v else '' for v in is_min]\n",
    "\n",
    "(\n",
    "    gammas.style\n",
    "    .apply(highlight_max, subset=['subject', 'BOLD signal'])\n",
    "    .apply(highlight_min, subset=['subject', 'BOLD signal'])\n",
    ")"
   ]
  },
  {
   "cell_type": "code",
   "execution_count": null,
   "id": "other-petite",
   "metadata": {},
   "outputs": [],
   "source": [
    "disp_tab = gammas.style.set_caption('Here is some text that describes the table.')"
   ]
  },
  {
   "cell_type": "markdown",
   "id": "liberal-vocabulary",
   "metadata": {},
   "source": [
    "<br>\n",
    "<br>\n",
    "<br>\n",
    "<br>\n",
    "<br>"
   ]
  },
  {
   "cell_type": "markdown",
   "id": "sharp-valuable",
   "metadata": {},
   "source": [
    "## SQL -> pd.DataFrame"
   ]
  },
  {
   "cell_type": "code",
   "execution_count": null,
   "id": "offshore-engagement",
   "metadata": {},
   "outputs": [],
   "source": [
    "# See local notebook"
   ]
  },
  {
   "cell_type": "markdown",
   "id": "adolescent-breeding",
   "metadata": {},
   "source": [
    "<br>\n",
    "<br>\n",
    "<br>\n",
    "<br>\n",
    "<br>"
   ]
  },
  {
   "cell_type": "markdown",
   "id": "spiritual-henry",
   "metadata": {},
   "source": [
    "## Generating Fake Data"
   ]
  },
  {
   "cell_type": "code",
   "execution_count": null,
   "id": "crazy-spank",
   "metadata": {
    "scrolled": true
   },
   "outputs": [],
   "source": [
    "from faker import Faker\n",
    "import numpy as np\n",
    "\n",
    "fake = Faker()\n",
    "\n",
    "[Faker().name() for _ in np.arange(5)]"
   ]
  },
  {
   "cell_type": "code",
   "execution_count": null,
   "id": "global-proposal",
   "metadata": {},
   "outputs": [],
   "source": [
    "[op for op in dir(fake) if not op.startswith('_')]"
   ]
  },
  {
   "cell_type": "code",
   "execution_count": null,
   "id": "miniature-label",
   "metadata": {},
   "outputs": [],
   "source": [
    "[Faker().email() for _ in np.arange(5)]"
   ]
  },
  {
   "cell_type": "code",
   "execution_count": null,
   "id": "through-rotation",
   "metadata": {},
   "outputs": [],
   "source": [
    "[Faker().ipv4() for _ in np.arange(5)]"
   ]
  },
  {
   "cell_type": "code",
   "execution_count": null,
   "id": "restricted-appraisal",
   "metadata": {},
   "outputs": [],
   "source": [
    "[Faker().street_address() for _ in np.arange(5)]"
   ]
  },
  {
   "cell_type": "code",
   "execution_count": null,
   "id": "featured-breach",
   "metadata": {},
   "outputs": [],
   "source": [
    "[Faker().sentence() for _ in np.arange(5)]"
   ]
  },
  {
   "cell_type": "code",
   "execution_count": null,
   "id": "smooth-receptor",
   "metadata": {},
   "outputs": [],
   "source": [
    "[Faker().job() for _ in np.arange(5)]"
   ]
  },
  {
   "cell_type": "code",
   "execution_count": null,
   "id": "transsexual-microphone",
   "metadata": {},
   "outputs": [],
   "source": []
  },
  {
   "cell_type": "code",
   "execution_count": null,
   "id": "spanish-stage",
   "metadata": {},
   "outputs": [],
   "source": []
  },
  {
   "cell_type": "code",
   "execution_count": null,
   "id": "increasing-employee",
   "metadata": {},
   "outputs": [],
   "source": []
  },
  {
   "cell_type": "code",
   "execution_count": null,
   "id": "invalid-robert",
   "metadata": {},
   "outputs": [],
   "source": []
  },
  {
   "cell_type": "code",
   "execution_count": null,
   "id": "north-percentage",
   "metadata": {},
   "outputs": [],
   "source": []
  },
  {
   "cell_type": "code",
   "execution_count": null,
   "id": "intimate-label",
   "metadata": {},
   "outputs": [],
   "source": []
  },
  {
   "cell_type": "code",
   "execution_count": null,
   "id": "sustained-teens",
   "metadata": {},
   "outputs": [],
   "source": []
  },
  {
   "cell_type": "code",
   "execution_count": null,
   "id": "adequate-hopkins",
   "metadata": {},
   "outputs": [],
   "source": []
  }
 ],
 "metadata": {
  "kernelspec": {
   "display_name": "Python 3",
   "language": "python",
   "name": "python3"
  },
  "language_info": {
   "codemirror_mode": {
    "name": "ipython",
    "version": 3
   },
   "file_extension": ".py",
   "mimetype": "text/x-python",
   "name": "python",
   "nbconvert_exporter": "python",
   "pygments_lexer": "ipython3",
   "version": "3.9.2"
  }
 },
 "nbformat": 4,
 "nbformat_minor": 5
}
