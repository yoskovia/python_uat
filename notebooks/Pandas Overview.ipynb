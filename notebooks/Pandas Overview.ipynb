{
 "cells": [
  {
   "cell_type": "markdown",
   "id": "falling-fetish",
   "metadata": {},
   "source": [
    "# Manipulating Data with `pandas`"
   ]
  },
  {
   "cell_type": "code",
   "execution_count": null,
   "id": "further-account",
   "metadata": {},
   "outputs": [],
   "source": [
    "import pandas as pd\n",
    "\n",
    "pinball = pd.DataFrame({\n",
    "    'name':['anthony', 'jim', 'tom', 'tom', 'tim'],\n",
    "    'score':[100, 2, 3, 3, None],\n",
    "    'nTimes':[1, 15, 15, 16, 8]\n",
    "})"
   ]
  },
  {
   "cell_type": "code",
   "execution_count": null,
   "id": "weighted-clone",
   "metadata": {},
   "outputs": [],
   "source": [
    "pinball"
   ]
  },
  {
   "cell_type": "code",
   "execution_count": null,
   "id": "prostate-facing",
   "metadata": {},
   "outputs": [],
   "source": [
    "pinball.shape"
   ]
  },
  {
   "cell_type": "code",
   "execution_count": null,
   "id": "qualified-freight",
   "metadata": {},
   "outputs": [],
   "source": [
    "pinball.dtypes"
   ]
  },
  {
   "cell_type": "code",
   "execution_count": null,
   "id": "original-praise",
   "metadata": {},
   "outputs": [],
   "source": [
    "pinball.columns"
   ]
  },
  {
   "cell_type": "code",
   "execution_count": null,
   "id": "aquatic-absolute",
   "metadata": {},
   "outputs": [],
   "source": [
    "pinball.rename(columns={'name':'persons name'})"
   ]
  },
  {
   "cell_type": "code",
   "execution_count": null,
   "id": "delayed-cardiff",
   "metadata": {},
   "outputs": [],
   "source": [
    "pinball"
   ]
  },
  {
   "cell_type": "markdown",
   "id": "unable-karaoke",
   "metadata": {},
   "source": [
    "Select a single column using []"
   ]
  },
  {
   "cell_type": "code",
   "execution_count": null,
   "id": "endless-usage",
   "metadata": {},
   "outputs": [],
   "source": [
    "pinball['score']"
   ]
  },
  {
   "cell_type": "code",
   "execution_count": null,
   "id": "bright-psychology",
   "metadata": {},
   "outputs": [],
   "source": [
    "[x for x in dir(pd.Series) if not x.startswith('_')]"
   ]
  },
  {
   "cell_type": "markdown",
   "id": "cathedral-fellowship",
   "metadata": {},
   "source": [
    "Online help [here](https://pandas.pydata.org/docs/reference/api/pandas.Series.describe.html)."
   ]
  },
  {
   "cell_type": "code",
   "execution_count": null,
   "id": "modern-pressure",
   "metadata": {},
   "outputs": [],
   "source": [
    "help(pd.Series.describe)"
   ]
  },
  {
   "cell_type": "code",
   "execution_count": null,
   "id": "wrong-shore",
   "metadata": {
    "scrolled": true
   },
   "outputs": [],
   "source": [
    "help(pd.Series.to_clipboard)"
   ]
  },
  {
   "cell_type": "code",
   "execution_count": null,
   "id": "optimum-prior",
   "metadata": {},
   "outputs": [],
   "source": [
    "pinball.to_clipboard() # Helpful when pasting into excel"
   ]
  },
  {
   "cell_type": "code",
   "execution_count": null,
   "id": "running-secondary",
   "metadata": {},
   "outputs": [],
   "source": [
    "pinball.to_clipboard(excel=False) # Helpful for email / slack"
   ]
  },
  {
   "cell_type": "code",
   "execution_count": null,
   "id": "floppy-broadcasting",
   "metadata": {},
   "outputs": [],
   "source": [
    "pinball['score'].describe()"
   ]
  },
  {
   "cell_type": "code",
   "execution_count": null,
   "id": "martial-syndrome",
   "metadata": {},
   "outputs": [],
   "source": [
    "pinball.describe() # Show all descriptive statistics"
   ]
  },
  {
   "cell_type": "code",
   "execution_count": null,
   "id": "interpreted-honor",
   "metadata": {
    "scrolled": true
   },
   "outputs": [],
   "source": [
    "help(pd.Series.duplicated)"
   ]
  },
  {
   "cell_type": "code",
   "execution_count": null,
   "id": "american-survey",
   "metadata": {},
   "outputs": [],
   "source": [
    "pinball['score'].duplicated(keep=False)"
   ]
  },
  {
   "cell_type": "code",
   "execution_count": null,
   "id": "olympic-aluminum",
   "metadata": {},
   "outputs": [],
   "source": [
    "pinball[ pinball['score'].duplicated(keep=False) ]"
   ]
  },
  {
   "cell_type": "code",
   "execution_count": null,
   "id": "combined-yugoslavia",
   "metadata": {},
   "outputs": [],
   "source": [
    "dups = pinball[ pinball['score'].duplicated(keep=False) ]\n",
    "\n",
    "# Throw error if there are any duplicate rows in \"dups\"\n",
    "assert len(dups) == 0, 'Stop!!! There are duplicate values!!'"
   ]
  },
  {
   "cell_type": "code",
   "execution_count": null,
   "id": "utility-diesel",
   "metadata": {},
   "outputs": [],
   "source": [
    "pinball['score'].mean()"
   ]
  },
  {
   "cell_type": "code",
   "execution_count": null,
   "id": "alike-guatemala",
   "metadata": {},
   "outputs": [],
   "source": [
    "pinball['score'] > 50"
   ]
  },
  {
   "cell_type": "markdown",
   "id": "swiss-maker",
   "metadata": {},
   "source": [
    "Pass a boolean array into the index in order to subset"
   ]
  },
  {
   "cell_type": "code",
   "execution_count": null,
   "id": "solid-aberdeen",
   "metadata": {},
   "outputs": [],
   "source": [
    "bool_array = pinball['score'] > 50\n",
    "pinball[bool_array]"
   ]
  },
  {
   "cell_type": "code",
   "execution_count": null,
   "id": "ethical-salon",
   "metadata": {},
   "outputs": [],
   "source": [
    "pinball.loc[lambda x: x['score'] > 50]"
   ]
  },
  {
   "cell_type": "code",
   "execution_count": null,
   "id": "least-fellow",
   "metadata": {},
   "outputs": [],
   "source": [
    "pinball"
   ]
  },
  {
   "cell_type": "code",
   "execution_count": null,
   "id": "foster-shame",
   "metadata": {},
   "outputs": [],
   "source": [
    "pinball.nlargest(2, 'score')"
   ]
  },
  {
   "cell_type": "code",
   "execution_count": null,
   "id": "atmospheric-copper",
   "metadata": {},
   "outputs": [],
   "source": [
    "pinball.nsmallest(3, 'nTimes')"
   ]
  },
  {
   "cell_type": "code",
   "execution_count": null,
   "id": "moved-circumstances",
   "metadata": {},
   "outputs": [],
   "source": [
    "games = pd.DataFrame({\n",
    "    'name':['anthony', 'tom'],\n",
    "    'fav_color':['red', 'blue']\n",
    "})"
   ]
  },
  {
   "cell_type": "code",
   "execution_count": null,
   "id": "imposed-notification",
   "metadata": {},
   "outputs": [],
   "source": [
    "pd.merge(pinball, games, how='left', on='name')"
   ]
  },
  {
   "cell_type": "code",
   "execution_count": null,
   "id": "white-praise",
   "metadata": {},
   "outputs": [],
   "source": [
    "pd.merge(pinball, games, how='inner', on='name')"
   ]
  },
  {
   "cell_type": "code",
   "execution_count": null,
   "id": "reliable-government",
   "metadata": {},
   "outputs": [],
   "source": [
    "pd.merge(pinball, games, how='left', on='name', indicator=True)"
   ]
  },
  {
   "cell_type": "code",
   "execution_count": null,
   "id": "statistical-reduction",
   "metadata": {},
   "outputs": [],
   "source": [
    "merged = pd.merge(pinball, games, how='left', on='name', indicator=True)\n",
    "\n",
    "# Throw an error if there are records that are only in the left table\n",
    "assert 'left_only' not in merged['_merge'].unique(), 'Not all records matched'"
   ]
  },
  {
   "cell_type": "code",
   "execution_count": null,
   "id": "resistant-inspiration",
   "metadata": {},
   "outputs": [],
   "source": [
    "# Make sure that no rows have a name of steve (sorry steve)\n",
    "assert 'steve' not in merged['name'].unique()"
   ]
  },
  {
   "cell_type": "code",
   "execution_count": null,
   "id": "floating-madness",
   "metadata": {},
   "outputs": [],
   "source": [
    "import seaborn as sns\n",
    "\n",
    "# The seaborn package has lots of useful builtin datasets\n",
    "# Use `sns.get_dataset_names()` to see a full list of them\n",
    "iris = sns.load_dataset('iris')\n",
    "iris.head()"
   ]
  },
  {
   "cell_type": "code",
   "execution_count": null,
   "id": "composed-layout",
   "metadata": {},
   "outputs": [],
   "source": [
    "# Compute the average sepal_length by species\n",
    "(\n",
    "    iris\n",
    "    .groupby('species')\n",
    "    ['sepal_length'].mean()\n",
    ")"
   ]
  },
  {
   "cell_type": "code",
   "execution_count": null,
   "id": "vital-dinner",
   "metadata": {},
   "outputs": [],
   "source": [
    "(\n",
    "    iris\n",
    "    .groupby('species')\n",
    "    \n",
    "    # Compute the sum, min, and max of a single column\n",
    "    ['sepal_length'].agg(['sum', 'min', 'max'])\n",
    "    \n",
    "    # Compute the sum and min of multiple columns\n",
    "    #[['sepal_length', 'sepal_width']].agg(['sum', 'min'])\n",
    "    \n",
    "    # Use different aggregates for different columns\n",
    "    #.agg({'sepal_length' : ['sum', 'min'], 'petal_length' : ['max']})\n",
    "    #.melt() # Easily reshape data into the long format using .melt()\n",
    ")"
   ]
  },
  {
   "cell_type": "code",
   "execution_count": null,
   "id": "palestinian-commerce",
   "metadata": {},
   "outputs": [],
   "source": [
    "(\n",
    "    iris\n",
    "    .groupby('species')\n",
    "    \n",
    "    # Show records with the the 2 largest sepal_lengths by species \n",
    "    .apply(pd.DataFrame.nlargest, 2, 'sepal_length')\n",
    ")"
   ]
  },
  {
   "cell_type": "code",
   "execution_count": null,
   "id": "minute-logistics",
   "metadata": {},
   "outputs": [],
   "source": [
    "from pandasql import sqldf\n",
    "\n",
    "sqldf('select * from iris limit 5')"
   ]
  },
  {
   "cell_type": "code",
   "execution_count": null,
   "id": "fluid-hurricane",
   "metadata": {},
   "outputs": [],
   "source": [
    "sqldf('SELECT SUM(sepal_length) FROM iris GROUP BY species')"
   ]
  },
  {
   "cell_type": "code",
   "execution_count": null,
   "id": "allied-stomach",
   "metadata": {},
   "outputs": [],
   "source": []
  }
 ],
 "metadata": {
  "kernelspec": {
   "display_name": "Python 3",
   "language": "python",
   "name": "python3"
  },
  "language_info": {
   "codemirror_mode": {
    "name": "ipython",
    "version": 3
   },
   "file_extension": ".py",
   "mimetype": "text/x-python",
   "name": "python",
   "nbconvert_exporter": "python",
   "pygments_lexer": "ipython3",
   "version": "3.9.2"
  }
 },
 "nbformat": 4,
 "nbformat_minor": 5
}
