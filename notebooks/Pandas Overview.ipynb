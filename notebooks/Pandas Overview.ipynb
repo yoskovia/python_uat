{
 "cells": [
  {
   "cell_type": "markdown",
   "id": "falling-fetish",
   "metadata": {},
   "source": [
    "# Manipulating Data with `pandas`"
   ]
  },
  {
   "cell_type": "markdown",
   "id": "english-airfare",
   "metadata": {},
   "source": [
    "- Dataframes and their attributes\n",
    "- Subsetting\n",
    "- Aggregating\n",
    "- Reading external files"
   ]
  },
  {
   "cell_type": "code",
   "execution_count": null,
   "id": "further-account",
   "metadata": {},
   "outputs": [],
   "source": [
    "import pandas as pd\n",
    "\n",
    "pinball = pd.DataFrame({\n",
    "    'name':['anthony', 'jim', 'tom', 'tom', 'tim'],\n",
    "    'score':[100, 2, 3, 3, None]\n",
    "})"
   ]
  },
  {
   "cell_type": "code",
   "execution_count": null,
   "id": "weighted-clone",
   "metadata": {},
   "outputs": [],
   "source": [
    "pinball"
   ]
  },
  {
   "cell_type": "code",
   "execution_count": null,
   "id": "prostate-facing",
   "metadata": {},
   "outputs": [],
   "source": [
    "pinball.shape"
   ]
  },
  {
   "cell_type": "code",
   "execution_count": null,
   "id": "qualified-freight",
   "metadata": {},
   "outputs": [],
   "source": [
    "pinball.dtypes"
   ]
  },
  {
   "cell_type": "code",
   "execution_count": null,
   "id": "original-praise",
   "metadata": {},
   "outputs": [],
   "source": [
    "pinball.columns"
   ]
  },
  {
   "cell_type": "code",
   "execution_count": null,
   "id": "aquatic-absolute",
   "metadata": {},
   "outputs": [],
   "source": [
    "pinball.rename(columns={'name':'persons name'})"
   ]
  },
  {
   "cell_type": "code",
   "execution_count": null,
   "id": "delayed-cardiff",
   "metadata": {},
   "outputs": [],
   "source": [
    "pinball"
   ]
  },
  {
   "cell_type": "markdown",
   "id": "unable-karaoke",
   "metadata": {},
   "source": [
    "Select a single column using []"
   ]
  },
  {
   "cell_type": "code",
   "execution_count": null,
   "id": "endless-usage",
   "metadata": {},
   "outputs": [],
   "source": [
    "pinball['score']"
   ]
  },
  {
   "cell_type": "code",
   "execution_count": null,
   "id": "bright-psychology",
   "metadata": {},
   "outputs": [],
   "source": [
    "[x for x in dir(pd.Series) if not x.startswith('_')]"
   ]
  },
  {
   "cell_type": "markdown",
   "id": "cathedral-fellowship",
   "metadata": {},
   "source": [
    "Online help [here](https://pandas.pydata.org/docs/reference/api/pandas.Series.describe.html)."
   ]
  },
  {
   "cell_type": "code",
   "execution_count": null,
   "id": "modern-pressure",
   "metadata": {},
   "outputs": [],
   "source": [
    "help(pd.Series.describe)"
   ]
  },
  {
   "cell_type": "code",
   "execution_count": null,
   "id": "wrong-shore",
   "metadata": {
    "scrolled": true
   },
   "outputs": [],
   "source": [
    "help(pd.Series.to_clipboard)"
   ]
  },
  {
   "cell_type": "code",
   "execution_count": null,
   "id": "optimum-prior",
   "metadata": {},
   "outputs": [],
   "source": [
    "pinball.to_clipboard() # Helpful when pasting into excel"
   ]
  },
  {
   "cell_type": "code",
   "execution_count": null,
   "id": "running-secondary",
   "metadata": {},
   "outputs": [],
   "source": [
    "pinball.to_clipboard(excel=False) # Helpful for email / slack"
   ]
  },
  {
   "cell_type": "code",
   "execution_count": null,
   "id": "floppy-broadcasting",
   "metadata": {},
   "outputs": [],
   "source": [
    "pinball['score'].describe()"
   ]
  },
  {
   "cell_type": "code",
   "execution_count": null,
   "id": "martial-syndrome",
   "metadata": {},
   "outputs": [],
   "source": [
    "pinball.describe() # Show all descriptive statistics"
   ]
  },
  {
   "cell_type": "code",
   "execution_count": null,
   "id": "interpreted-honor",
   "metadata": {
    "scrolled": true
   },
   "outputs": [],
   "source": [
    "help(pd.Series.duplicated)"
   ]
  },
  {
   "cell_type": "code",
   "execution_count": null,
   "id": "american-survey",
   "metadata": {},
   "outputs": [],
   "source": [
    "pinball['score'].duplicated(keep=False)"
   ]
  },
  {
   "cell_type": "code",
   "execution_count": null,
   "id": "olympic-aluminum",
   "metadata": {},
   "outputs": [],
   "source": [
    "pinball[ pinball['score'].duplicated(keep=False) ]"
   ]
  },
  {
   "cell_type": "code",
   "execution_count": null,
   "id": "combined-yugoslavia",
   "metadata": {},
   "outputs": [],
   "source": [
    "dups = pinball[ pinball['score'].duplicated(keep=False) ]\n",
    "\n",
    "# Throw error if a condition is false\n",
    "assert len(dups) == 0, 'Stop!!! There are duplicate values!!'"
   ]
  },
  {
   "cell_type": "code",
   "execution_count": null,
   "id": "utility-diesel",
   "metadata": {},
   "outputs": [],
   "source": [
    "pinball['score'].mean()"
   ]
  },
  {
   "cell_type": "code",
   "execution_count": null,
   "id": "alike-guatemala",
   "metadata": {},
   "outputs": [],
   "source": [
    "pinball['score'] > 50"
   ]
  },
  {
   "cell_type": "markdown",
   "id": "swiss-maker",
   "metadata": {},
   "source": [
    "Pass a boolean array into the index in order to subset"
   ]
  },
  {
   "cell_type": "code",
   "execution_count": null,
   "id": "solid-aberdeen",
   "metadata": {},
   "outputs": [],
   "source": [
    "bool_array = pinball['score'] > 50\n",
    "pinball[bool_array]"
   ]
  },
  {
   "cell_type": "code",
   "execution_count": null,
   "id": "ethical-salon",
   "metadata": {},
   "outputs": [],
   "source": [
    "pinball.loc[lambda x: x['score'] > 50]"
   ]
  },
  {
   "cell_type": "code",
   "execution_count": null,
   "id": "least-fellow",
   "metadata": {},
   "outputs": [],
   "source": [
    "pinball"
   ]
  },
  {
   "cell_type": "code",
   "execution_count": null,
   "id": "moved-circumstances",
   "metadata": {},
   "outputs": [],
   "source": [
    "games = pd.DataFrame({\n",
    "    'name':['anthony', 'tom'],\n",
    "    'fav_color':['red', 'blue']\n",
    "})"
   ]
  },
  {
   "cell_type": "code",
   "execution_count": null,
   "id": "imposed-notification",
   "metadata": {},
   "outputs": [],
   "source": [
    "pd.merge(pinball, games, how='left', on='name')"
   ]
  },
  {
   "cell_type": "code",
   "execution_count": null,
   "id": "white-praise",
   "metadata": {},
   "outputs": [],
   "source": [
    "pd.merge(pinball, games, how='inner', on='name')"
   ]
  },
  {
   "cell_type": "code",
   "execution_count": null,
   "id": "reliable-government",
   "metadata": {},
   "outputs": [],
   "source": [
    "pd.merge(pinball, games, how='left', on='name', indicator=True)"
   ]
  }
 ],
 "metadata": {
  "kernelspec": {
   "display_name": "Python 3",
   "language": "python",
   "name": "python3"
  },
  "language_info": {
   "codemirror_mode": {
    "name": "ipython",
    "version": 3
   },
   "file_extension": ".py",
   "mimetype": "text/x-python",
   "name": "python",
   "nbconvert_exporter": "python",
   "pygments_lexer": "ipython3",
   "version": "3.9.2"
  }
 },
 "nbformat": 4,
 "nbformat_minor": 5
}
