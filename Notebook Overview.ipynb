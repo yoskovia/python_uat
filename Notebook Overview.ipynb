{
 "cells": [
  {
   "cell_type": "markdown",
   "id": "collective-analyst",
   "metadata": {},
   "source": [
    "# Jupyter Notebook Overview"
   ]
  },
  {
   "cell_type": "markdown",
   "id": "cordless-incident",
   "metadata": {},
   "source": [
    "This is a jupyter notebook. Within it, there are cells that either contain markdown syntax or Python code. This cell contains markdown, while the one underneath it contains code. To execute the Python code below you can either:\n",
    "- Click the cell, and click the \"Run\" button in the above menu\n",
    "- Click the cell, and push control+enter"
   ]
  },
  {
   "cell_type": "code",
   "execution_count": null,
   "id": "moderate-regard",
   "metadata": {},
   "outputs": [],
   "source": [
    "print('Hello!')"
   ]
  },
  {
   "cell_type": "markdown",
   "id": "stopped-registration",
   "metadata": {},
   "source": [
    "Variables that you assign in one cell are available to all other cells, but not to other notebooks (usually)."
   ]
  },
  {
   "cell_type": "code",
   "execution_count": null,
   "id": "referenced-belief",
   "metadata": {},
   "outputs": [],
   "source": [
    "x = 10"
   ]
  },
  {
   "cell_type": "code",
   "execution_count": null,
   "id": "beneficial-limitation",
   "metadata": {},
   "outputs": [],
   "source": [
    "x"
   ]
  },
  {
   "cell_type": "markdown",
   "id": "concerned-junction",
   "metadata": {},
   "source": [
    "**Warning!** When using a Jupyter notebook, if the last line of a cell is simply the name of a variable, it will automatically display the value below the cell. When creating `.py` files, you will need to call `print(my_var)` in order to see the variable."
   ]
  },
  {
   "cell_type": "markdown",
   "id": "integral-threat",
   "metadata": {},
   "source": [
    "--- "
   ]
  },
  {
   "cell_type": "markdown",
   "id": "variable-special",
   "metadata": {},
   "source": [
    "You can also start a cell with `!` and use the cell as a terminal (cmd or powershell, this notebook should be using cmd)"
   ]
  },
  {
   "cell_type": "code",
   "execution_count": null,
   "id": "quarterly-command",
   "metadata": {},
   "outputs": [],
   "source": [
    "!dir"
   ]
  },
  {
   "cell_type": "markdown",
   "id": "virtual-validation",
   "metadata": {},
   "source": [
    "You can also save the output of a terminal command into a python variable."
   ]
  },
  {
   "cell_type": "code",
   "execution_count": null,
   "id": "headed-vulnerability",
   "metadata": {
    "scrolled": true
   },
   "outputs": [],
   "source": [
    "dir_output = !dir"
   ]
  },
  {
   "cell_type": "code",
   "execution_count": null,
   "id": "third-attribute",
   "metadata": {},
   "outputs": [],
   "source": [
    "!jupyter nbconvert *.ipynb --to python --output-dir=src/"
   ]
  },
  {
   "cell_type": "markdown",
   "id": "sapphire-perth",
   "metadata": {},
   "source": [
    "You can also run javascript, R, SQL, and lots of other languages using this interface."
   ]
  },
  {
   "cell_type": "code",
   "execution_count": null,
   "id": "center-democrat",
   "metadata": {},
   "outputs": [],
   "source": [
    "%%javascript\n",
    "document.title='Tab Updated!'"
   ]
  }
 ],
 "metadata": {
  "kernelspec": {
   "display_name": "Python 3",
   "language": "python",
   "name": "python3"
  },
  "language_info": {
   "codemirror_mode": {
    "name": "ipython",
    "version": 3
   },
   "file_extension": ".py",
   "mimetype": "text/x-python",
   "name": "python",
   "nbconvert_exporter": "python",
   "pygments_lexer": "ipython3",
   "version": "3.9.2"
  }
 },
 "nbformat": 4,
 "nbformat_minor": 5
}
