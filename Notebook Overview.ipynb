{
 "cells": [
  {
   "cell_type": "markdown",
   "id": "nominated-raleigh",
   "metadata": {},
   "source": [
    "# Jupyter Notebook Overview"
   ]
  },
  {
   "cell_type": "markdown",
   "id": "banned-literature",
   "metadata": {},
   "source": [
    "This is a jupyter notebook. Within it, there are cells that either contain markdown syntax or Python code. This cell contains markdown, while the one underneath it contains code. To execute the Python code below you can either:\n",
    "- Click the cell, and click the \"Run\" button in the above menu\n",
    "- Click the cell, and push control+enter"
   ]
  },
  {
   "cell_type": "code",
   "execution_count": null,
   "id": "medieval-remark",
   "metadata": {},
   "outputs": [],
   "source": [
    "print('Hello!')"
   ]
  },
  {
   "cell_type": "markdown",
   "id": "structural-council",
   "metadata": {},
   "source": [
    "Variables that you assign in one cell are available to all other cells, but not to other notebooks (usually)."
   ]
  },
  {
   "cell_type": "code",
   "execution_count": null,
   "id": "virgin-montana",
   "metadata": {},
   "outputs": [],
   "source": [
    "x = 10"
   ]
  },
  {
   "cell_type": "code",
   "execution_count": null,
   "id": "discrete-grave",
   "metadata": {},
   "outputs": [],
   "source": [
    "x"
   ]
  },
  {
   "cell_type": "markdown",
   "id": "thousand-monthly",
   "metadata": {},
   "source": [
    "**Warning!** When using a Jupyter notebook, simply running a cell with a variable in it will display the value below. However, this behavior is not always the case when using other Python environments besides a Jupyter Notebook."
   ]
  },
  {
   "cell_type": "markdown",
   "id": "israeli-freeware",
   "metadata": {},
   "source": [
    "--- "
   ]
  },
  {
   "cell_type": "markdown",
   "id": "rational-monitor",
   "metadata": {},
   "source": [
    "### You can also start a cell with `!` and use a code cell as a terminal (cmd or powershell, this notebook should be using cmd)"
   ]
  },
  {
   "cell_type": "code",
   "execution_count": null,
   "id": "moderate-sleeve",
   "metadata": {},
   "outputs": [],
   "source": [
    "!dir"
   ]
  },
  {
   "cell_type": "code",
   "execution_count": null,
   "id": "copyrighted-question",
   "metadata": {},
   "outputs": [],
   "source": [
    "!jupyter nbconvert *.ipynb --to python --output-dir=src/"
   ]
  },
  {
   "cell_type": "markdown",
   "id": "pacific-champion",
   "metadata": {},
   "source": [
    "### You can also run javascript, R, SQL, and lots of other languages using this interface."
   ]
  },
  {
   "cell_type": "code",
   "execution_count": null,
   "id": "southwest-auckland",
   "metadata": {},
   "outputs": [],
   "source": [
    "%%javascript\n",
    "document.title='Tab Updated!'"
   ]
  }
 ],
 "metadata": {
  "kernelspec": {
   "display_name": "Python 3",
   "language": "python",
   "name": "python3"
  },
  "language_info": {
   "codemirror_mode": {
    "name": "ipython",
    "version": 3
   },
   "file_extension": ".py",
   "mimetype": "text/x-python",
   "name": "python",
   "nbconvert_exporter": "python",
   "pygments_lexer": "ipython3",
   "version": "3.9.2"
  }
 },
 "nbformat": 4,
 "nbformat_minor": 5
}
