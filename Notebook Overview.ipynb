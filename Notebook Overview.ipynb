{
 "cells": [
  {
   "cell_type": "markdown",
   "id": "dressed-bowling",
   "metadata": {},
   "source": [
    "# Jupyter Notebook Overview"
   ]
  },
  {
   "cell_type": "markdown",
   "id": "covered-capacity",
   "metadata": {},
   "source": [
    "This is a jupyter notebook. Within it, there are cells that either contain markdown syntax or Python code. This cell contains markdown, while the one underneath it contains code. To execute the Python code below you can either:\n",
    "- Click the cell, and click the \"Run\" button in the above menu\n",
    "- Click the cell, and push control+enter"
   ]
  },
  {
   "cell_type": "code",
   "execution_count": null,
   "id": "stable-processing",
   "metadata": {},
   "outputs": [],
   "source": [
    "print('Hello!')"
   ]
  },
  {
   "cell_type": "markdown",
   "id": "straight-illinois",
   "metadata": {},
   "source": [
    "Variables that you assign in one cell are available to all other cells, but not to other notebooks (usually)."
   ]
  },
  {
   "cell_type": "code",
   "execution_count": null,
   "id": "outer-contamination",
   "metadata": {},
   "outputs": [],
   "source": [
    "x = 10"
   ]
  },
  {
   "cell_type": "code",
   "execution_count": null,
   "id": "protecting-timber",
   "metadata": {},
   "outputs": [],
   "source": [
    "x"
   ]
  },
  {
   "cell_type": "markdown",
   "id": "controversial-blocking",
   "metadata": {},
   "source": [
    "**Warning!** When using a Jupyter notebook, simply running a cell with a variable in it will display the value below. However, this behavior is not always the case when using other environments besides a Jupyter Notebook."
   ]
  },
  {
   "cell_type": "markdown",
   "id": "dedicated-reconstruction",
   "metadata": {},
   "source": [
    "--- "
   ]
  },
  {
   "cell_type": "markdown",
   "id": "listed-pennsylvania",
   "metadata": {},
   "source": [
    "### You can also start a cell with `!` and use a code cell as a terminal (cmd or powershell, this notebook should be using cmd)"
   ]
  },
  {
   "cell_type": "code",
   "execution_count": null,
   "id": "available-comfort",
   "metadata": {},
   "outputs": [],
   "source": [
    "!dir"
   ]
  },
  {
   "cell_type": "code",
   "execution_count": null,
   "id": "acquired-marathon",
   "metadata": {},
   "outputs": [],
   "source": [
    "!jupyter nbconvert *.ipynb --to python --output-dir=src/"
   ]
  },
  {
   "cell_type": "markdown",
   "id": "perfect-shareware",
   "metadata": {},
   "source": [
    "### You can also run javascript, R, SQL, and lots of other languages using this interface."
   ]
  },
  {
   "cell_type": "code",
   "execution_count": null,
   "id": "antique-raising",
   "metadata": {},
   "outputs": [],
   "source": [
    "%%javascript\n",
    "document.title='Tab Updated!'"
   ]
  }
 ],
 "metadata": {
  "kernelspec": {
   "display_name": "Python 3",
   "language": "python",
   "name": "python3"
  },
  "language_info": {
   "codemirror_mode": {
    "name": "ipython",
    "version": 3
   },
   "file_extension": ".py",
   "mimetype": "text/x-python",
   "name": "python",
   "nbconvert_exporter": "python",
   "pygments_lexer": "ipython3",
   "version": "3.9.2"
  }
 },
 "nbformat": 4,
 "nbformat_minor": 5
}
