{
 "cells": [
  {
   "cell_type": "markdown",
   "id": "prospective-encyclopedia",
   "metadata": {},
   "source": [
    "# Jupyter Notebook Overview"
   ]
  },
  {
   "cell_type": "markdown",
   "id": "adapted-subcommittee",
   "metadata": {},
   "source": [
    "This is a jupyter notebook. Within it, there are cells that either contain markdown syntax or Python code. This cell contains markdown, while the one underneath it contains code. To execute the Python code below you can either:\n",
    "- Click the cell, and click the \"Run\" button in the above menu\n",
    "- Click the cell, and push control+enter"
   ]
  },
  {
   "cell_type": "code",
   "execution_count": null,
   "id": "conceptual-david",
   "metadata": {},
   "outputs": [],
   "source": [
    "print('Hello!')"
   ]
  },
  {
   "cell_type": "markdown",
   "id": "destroyed-flesh",
   "metadata": {},
   "source": [
    "Variables that you assign in one cell are available to all other cells, but not to other notebooks (usually)."
   ]
  },
  {
   "cell_type": "code",
   "execution_count": null,
   "id": "refined-evans",
   "metadata": {},
   "outputs": [],
   "source": [
    "x = 10"
   ]
  },
  {
   "cell_type": "code",
   "execution_count": null,
   "id": "processed-lightning",
   "metadata": {},
   "outputs": [],
   "source": [
    "x"
   ]
  },
  {
   "cell_type": "markdown",
   "id": "egyptian-catholic",
   "metadata": {},
   "source": [
    "**Warning!** When using a Jupyter notebook, simply running a cell with a variable in it will display the value below. However, this behavior is not always the case when using other environments besides a Jupyter Notebook."
   ]
  },
  {
   "cell_type": "markdown",
   "id": "reflected-borough",
   "metadata": {},
   "source": [
    "--- "
   ]
  },
  {
   "cell_type": "markdown",
   "id": "persistent-crowd",
   "metadata": {},
   "source": [
    "### You can also start a cell with `!` and use a code cell as a terminal (cmd or powershell, this notebook should be using cmd)"
   ]
  },
  {
   "cell_type": "code",
   "execution_count": null,
   "id": "comparative-exploration",
   "metadata": {},
   "outputs": [],
   "source": [
    "!dir"
   ]
  },
  {
   "cell_type": "code",
   "execution_count": null,
   "id": "environmental-columbus",
   "metadata": {},
   "outputs": [],
   "source": [
    "!jupyter nbconvert *.ipynb --to python --output-dir=src/"
   ]
  },
  {
   "cell_type": "markdown",
   "id": "speaking-elder",
   "metadata": {},
   "source": [
    "### You can also run javascript, R, SQL, and lots of other languages using this interface."
   ]
  },
  {
   "cell_type": "code",
   "execution_count": null,
   "id": "confident-bahamas",
   "metadata": {},
   "outputs": [],
   "source": [
    "%%javascript\n",
    "document.title='Tab Updated!'"
   ]
  },
  {
   "cell_type": "code",
   "execution_count": null,
   "id": "ceramic-desktop",
   "metadata": {},
   "outputs": [],
   "source": []
  }
 ],
 "metadata": {
  "kernelspec": {
   "display_name": "Python 3",
   "language": "python",
   "name": "python3"
  },
  "language_info": {
   "codemirror_mode": {
    "name": "ipython",
    "version": 3
   },
   "file_extension": ".py",
   "mimetype": "text/x-python",
   "name": "python",
   "nbconvert_exporter": "python",
   "pygments_lexer": "ipython3",
   "version": "3.9.2"
  }
 },
 "nbformat": 4,
 "nbformat_minor": 5
}
