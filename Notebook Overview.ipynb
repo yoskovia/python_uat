{
 "cells": [
  {
   "cell_type": "markdown",
   "id": "collective-analyst",
   "metadata": {},
   "source": [
    "# Jupyter Notebook Overview"
   ]
  },
  {
   "cell_type": "markdown",
   "id": "cordless-incident",
   "metadata": {},
   "source": [
    "This is a jupyter notebook. Within it, there are cells that either contain markdown syntax or Python code. This cell contains markdown, while the one underneath it contains code. To execute the Python code below you can either:\n",
    "- Click the cell, and click the \"Run\" button in the above menu\n",
    "- Click the cell, and push control+enter"
   ]
  },
  {
   "cell_type": "code",
   "execution_count": null,
   "id": "moderate-regard",
   "metadata": {},
   "outputs": [],
   "source": [
    "print('Hello!')"
   ]
  },
  {
   "cell_type": "markdown",
   "id": "stopped-registration",
   "metadata": {},
   "source": [
    "Variables that you assign in one cell are available to all other cells, but not to other notebooks (usually)."
   ]
  },
  {
   "cell_type": "code",
   "execution_count": null,
   "id": "referenced-belief",
   "metadata": {},
   "outputs": [],
   "source": [
    "x = 10"
   ]
  },
  {
   "cell_type": "code",
   "execution_count": null,
   "id": "beneficial-limitation",
   "metadata": {},
   "outputs": [],
   "source": [
    "x"
   ]
  },
  {
   "cell_type": "markdown",
   "id": "concerned-junction",
   "metadata": {},
   "source": [
    "**Warning!** When using a Jupyter notebook, simply running a cell with a variable in it will display the value below. However, this behavior is not always the case when using other Python environments besides a Jupyter Notebook."
   ]
  },
  {
   "cell_type": "markdown",
   "id": "integral-threat",
   "metadata": {},
   "source": [
    "--- "
   ]
  },
  {
   "cell_type": "markdown",
   "id": "variable-special",
   "metadata": {},
   "source": [
    "### You can also start a cell with `!` and use a code cell as a terminal (cmd or powershell, this notebook should be using cmd)"
   ]
  },
  {
   "cell_type": "code",
   "execution_count": null,
   "id": "quarterly-command",
   "metadata": {},
   "outputs": [],
   "source": [
    "!dir"
   ]
  },
  {
   "cell_type": "code",
   "execution_count": 1,
   "id": "third-attribute",
   "metadata": {},
   "outputs": [
    {
     "output_type": "stream",
     "name": "stderr",
     "text": [
      "[NbConvertApp] Converting notebook Notebook Overview.ipynb to python\n[NbConvertApp] Writing 1277 bytes to src\\Notebook Overview.py\n[NbConvertApp] Converting notebook Pandas Overview.ipynb to python\n[NbConvertApp] Writing 834 bytes to src\\Pandas Overview.py\n[NbConvertApp] Converting notebook Practical Examples.ipynb to python\n[NbConvertApp] Writing 3394 bytes to src\\Practical Examples.py\n[NbConvertApp] Converting notebook Python Overview.ipynb to python\n[NbConvertApp] Writing 3219 bytes to src\\Python Overview.py\n"
     ]
    }
   ],
   "source": [
    "!jupyter nbconvert *.ipynb --to python --output-dir=src/"
   ]
  },
  {
   "cell_type": "markdown",
   "id": "sapphire-perth",
   "metadata": {},
   "source": [
    "### You can also run javascript, R, SQL, and lots of other languages using this interface."
   ]
  },
  {
   "cell_type": "code",
   "execution_count": null,
   "id": "center-democrat",
   "metadata": {},
   "outputs": [],
   "source": [
    "%%javascript\n",
    "document.title='Tab Updated!'"
   ]
  }
 ],
 "metadata": {
  "kernelspec": {
   "name": "python392jvsc74a57bd018e0f9ad577af043420fb719200db53efb919f381d706a74d7f2a45d0ec272f3",
   "display_name": "Python 3.9.2 64-bit"
  },
  "language_info": {
   "codemirror_mode": {
    "name": "ipython",
    "version": 3
   },
   "file_extension": ".py",
   "mimetype": "text/x-python",
   "name": "python",
   "nbconvert_exporter": "python",
   "pygments_lexer": "ipython3",
   "version": "3.9.2"
  }
 },
 "nbformat": 4,
 "nbformat_minor": 5
}