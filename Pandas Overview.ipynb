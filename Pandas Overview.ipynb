{
 "cells": [
  {
   "cell_type": "markdown",
   "id": "molecular-exclusive",
   "metadata": {},
   "source": [
    "# Manipulating Data with `pandas`"
   ]
  },
  {
   "cell_type": "code",
   "execution_count": null,
   "id": "known-paper",
   "metadata": {},
   "outputs": [],
   "source": [
    "import pandas as pd\n",
    "\n",
    "pinball = pd.DataFrame({\n",
    "    'name':['anthony', 'jim', 'tom'],\n",
    "    'score':[100, 2, 3]\n",
    "})"
   ]
  },
  {
   "cell_type": "code",
   "execution_count": null,
   "id": "satellite-sherman",
   "metadata": {},
   "outputs": [],
   "source": [
    "pinball"
   ]
  },
  {
   "cell_type": "code",
   "execution_count": null,
   "id": "searching-decline",
   "metadata": {},
   "outputs": [],
   "source": [
    "pinball.shape"
   ]
  },
  {
   "cell_type": "code",
   "execution_count": null,
   "id": "german-sewing",
   "metadata": {},
   "outputs": [],
   "source": [
    "pinball.dtypes"
   ]
  },
  {
   "cell_type": "code",
   "execution_count": null,
   "id": "quality-bottle",
   "metadata": {},
   "outputs": [],
   "source": [
    "pinball.columns"
   ]
  },
  {
   "cell_type": "code",
   "execution_count": null,
   "id": "seeing-portugal",
   "metadata": {},
   "outputs": [],
   "source": [
    "pinball.rename(columns={'name':'persons name'})"
   ]
  },
  {
   "cell_type": "code",
   "execution_count": null,
   "id": "loaded-yeast",
   "metadata": {},
   "outputs": [],
   "source": [
    "pinball['score'] > 50"
   ]
  },
  {
   "cell_type": "code",
   "execution_count": null,
   "id": "naked-reliance",
   "metadata": {},
   "outputs": [],
   "source": [
    "pinball[pinball['score'] > 50]"
   ]
  },
  {
   "cell_type": "code",
   "execution_count": null,
   "id": "discrete-thesaurus",
   "metadata": {},
   "outputs": [],
   "source": [
    "pinball.loc[lambda x: x['score'] > 50]"
   ]
  },
  {
   "cell_type": "markdown",
   "id": "handed-pontiac",
   "metadata": {},
   "source": [
    "## Connecting to DW"
   ]
  }
 ],
 "metadata": {
  "kernelspec": {
   "display_name": "Python 3",
   "language": "python",
   "name": "python3"
  },
  "language_info": {
   "codemirror_mode": {
    "name": "ipython",
    "version": 3
   },
   "file_extension": ".py",
   "mimetype": "text/x-python",
   "name": "python",
   "nbconvert_exporter": "python",
   "pygments_lexer": "ipython3",
   "version": "3.9.2"
  }
 },
 "nbformat": 4,
 "nbformat_minor": 5
}
