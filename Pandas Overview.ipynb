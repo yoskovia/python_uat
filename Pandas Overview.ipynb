{
 "cells": [
  {
   "cell_type": "markdown",
   "id": "falling-fetish",
   "metadata": {},
   "source": [
    "# Manipulating Data with `pandas`"
   ]
  },
  {
   "cell_type": "markdown",
   "id": "english-airfare",
   "metadata": {},
   "source": [
    "### Topic Agenda \n",
    "\n",
    "- Dataframes and their attributes\n",
    "- Subsetting\n",
    "- Aggregating\n",
    "- Reading external files"
   ]
  },
  {
   "cell_type": "code",
   "execution_count": null,
   "id": "further-account",
   "metadata": {},
   "outputs": [],
   "source": [
    "import pandas as pd\n",
    "\n",
    "pinball = pd.DataFrame({\n",
    "    'name':['anthony', 'jim', 'tom'],\n",
    "    'score':[100, 2, 3]\n",
    "})"
   ]
  },
  {
   "cell_type": "code",
   "execution_count": null,
   "id": "weighted-clone",
   "metadata": {},
   "outputs": [],
   "source": [
    "pinball"
   ]
  },
  {
   "cell_type": "code",
   "execution_count": null,
   "id": "prostate-facing",
   "metadata": {},
   "outputs": [],
   "source": [
    "pinball.shape"
   ]
  },
  {
   "cell_type": "code",
   "execution_count": null,
   "id": "qualified-freight",
   "metadata": {},
   "outputs": [],
   "source": [
    "pinball.dtypes"
   ]
  },
  {
   "cell_type": "code",
   "execution_count": null,
   "id": "original-praise",
   "metadata": {},
   "outputs": [],
   "source": [
    "pinball.columns"
   ]
  },
  {
   "cell_type": "code",
   "execution_count": null,
   "id": "aquatic-absolute",
   "metadata": {},
   "outputs": [],
   "source": [
    "pinball.rename(columns={'name':'persons name'})"
   ]
  },
  {
   "cell_type": "code",
   "execution_count": null,
   "id": "delayed-cardiff",
   "metadata": {},
   "outputs": [],
   "source": [
    "pinball"
   ]
  },
  {
   "cell_type": "markdown",
   "id": "unable-karaoke",
   "metadata": {},
   "source": [
    "Select a single column using []"
   ]
  },
  {
   "cell_type": "code",
   "execution_count": null,
   "id": "endless-usage",
   "metadata": {},
   "outputs": [],
   "source": [
    "pinball['score']"
   ]
  },
  {
   "cell_type": "code",
   "execution_count": null,
   "id": "alike-guatemala",
   "metadata": {},
   "outputs": [],
   "source": [
    "pinball['score'] > 50"
   ]
  },
  {
   "cell_type": "markdown",
   "id": "swiss-maker",
   "metadata": {},
   "source": [
    "Pass a boolean array into the index in order to subset"
   ]
  },
  {
   "cell_type": "code",
   "execution_count": null,
   "id": "solid-aberdeen",
   "metadata": {},
   "outputs": [],
   "source": [
    "bool_array = pinball['score'] > 50\n",
    "pinball[bool_array]"
   ]
  },
  {
   "cell_type": "code",
   "execution_count": null,
   "id": "ethical-salon",
   "metadata": {},
   "outputs": [],
   "source": [
    "pinball.loc[lambda x: x['score'] > 50]"
   ]
  },
  {
   "cell_type": "markdown",
   "id": "perceived-cement",
   "metadata": {
    "heading_collapsed": "true",
    "tags": []
   },
   "source": [
    "## Reading External Files"
   ]
  },
  {
   "cell_type": "markdown",
   "id": "greenhouse-trick",
   "metadata": {
    "heading_collapsed": "true",
    "tags": []
   },
   "source": [
    "## Connecting to DW"
   ]
  }
 ],
 "metadata": {
  "kernelspec": {
   "display_name": "Python 3",
   "language": "python",
   "name": "python3"
  },
  "language_info": {
   "codemirror_mode": {
    "name": "ipython",
    "version": 3
   },
   "file_extension": ".py",
   "mimetype": "text/x-python",
   "name": "python",
   "nbconvert_exporter": "python",
   "pygments_lexer": "ipython3",
   "version": "3.9.2"
  }
 },
 "nbformat": 4,
 "nbformat_minor": 5
}
