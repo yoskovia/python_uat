{
 "cells": [
  {
   "cell_type": "markdown",
   "id": "worthy-allen",
   "metadata": {},
   "source": [
    "## Practical Examples of Python"
   ]
  },
  {
   "cell_type": "markdown",
   "id": "opponent-balloon",
   "metadata": {},
   "source": [
    "### Formatting Column Names: `AMERICAN_INDIAN_ENROLLMENT` -> `American Indian`"
   ]
  },
  {
   "cell_type": "code",
   "execution_count": null,
   "id": "operating-syndicate",
   "metadata": {},
   "outputs": [],
   "source": [
    "import pandas as pd\n",
    "\n",
    "dat = {'AMERICAN_INDIAN_ENROLLMENT': 'American Indian',\n",
    "       'ASIAN_ENROLLMENT': 'Asian',\n",
    "       'AFRICAN_AMERICAN_ENROLLMENT': 'African American',\n",
    "       'HISPANIC_ENROLLMENT': 'Hispanic',\n",
    "       'HAWAIIAN_ENROLLMENT': 'Hawaiian',\n",
    "       'WHITE_ENROLLMENT': 'White',\n",
    "       'TWO_OR_MORE_RACES_ENROLLMENT': 'Two or More Races'}\n",
    "\n",
    "df = (\n",
    "    pd.DataFrame.from_dict(dat, orient='index')\n",
    "    .reset_index()\n",
    "    .rename(columns={'index':'my_name', 0:'wanted_name'})\n",
    ")\n",
    "df"
   ]
  },
  {
   "cell_type": "code",
   "execution_count": null,
   "id": "defined-trunk",
   "metadata": {},
   "outputs": [],
   "source": [
    "'AMERICAN_INDIAN_ENROLLMENT'.replace('_', ' ').title().replace(' Enrollment', '')"
   ]
  },
  {
   "cell_type": "markdown",
   "id": "equivalent-utilization",
   "metadata": {},
   "source": [
    "Perform the above processing to each row of the dataset with `apply`."
   ]
  },
  {
   "cell_type": "code",
   "execution_count": null,
   "id": "specialized-antenna",
   "metadata": {},
   "outputs": [],
   "source": [
    "df['my_name'].apply(lambda x: x.replace('_', ' ').title().replace(' Enrollment', ''))"
   ]
  },
  {
   "cell_type": "markdown",
   "id": "outstanding-renaissance",
   "metadata": {},
   "source": [
    "Most of them look good, except for the \"Two Or More Races\" category doesn't need the 'O' capitalized. I'll create a function that uses an if statement to deal with this."
   ]
  },
  {
   "cell_type": "code",
   "execution_count": null,
   "id": "conscious-cheat",
   "metadata": {},
   "outputs": [],
   "source": [
    "def clean_name(name):\n",
    "    \"\"\" Clean up race names. \n",
    "    \n",
    "    Example:\n",
    "        clean_name('HAWAIIAN_ENROLLMENT')\n",
    "        >>> Hawaiian\n",
    "    \"\"\"\n",
    "    if name == 'TWO_OR_MORE_RACES_ENROLLMENT':\n",
    "        return 'Two or More Races'\n",
    "    \n",
    "    return (\n",
    "        name.replace('_', ' ').title().replace(' Enrollment', '')\n",
    "    )"
   ]
  },
  {
   "cell_type": "code",
   "execution_count": null,
   "id": "biological-lesson",
   "metadata": {},
   "outputs": [],
   "source": [
    "df['my_name'].apply(clean_name)"
   ]
  },
  {
   "cell_type": "code",
   "execution_count": null,
   "id": "blessed-rebound",
   "metadata": {},
   "outputs": [],
   "source": [
    "help(clean_name)"
   ]
  },
  {
   "cell_type": "markdown",
   "id": "special-latter",
   "metadata": {},
   "source": [
    "### Multiple String Or: Find records where `animals` contains any of the strings in `wanted_animals`"
   ]
  },
  {
   "cell_type": "code",
   "execution_count": null,
   "id": "electoral-fruit",
   "metadata": {},
   "outputs": [],
   "source": [
    "wanted_animals = ['cats', 'dogs']\n",
    "\n",
    "df = pd.DataFrame({\n",
    "    'name':['bob', 'jim', 'steve'],\n",
    "    'animals':['cats, dogs, turtles', 'dogs', 'turtles']\n",
    "}); \n",
    "\n",
    "print('Input Frame')\n",
    "display(df)\n",
    "print(f'Finding: {wanted_animals}')\n",
    "\n",
    "print('Output Frame')\n",
    "(\n",
    "    df.loc[lambda x: x['animals'].apply(lambda x: \n",
    "        any([name in x for name in wanted_animals])\n",
    "    )]\n",
    ")"
   ]
  },
  {
   "cell_type": "markdown",
   "id": "cooperative-surface",
   "metadata": {},
   "source": [
    "### Table Styling - Read more [here](https://pandas.pydata.org/pandas-docs/stable/user_guide/style.html)"
   ]
  },
  {
   "cell_type": "code",
   "execution_count": null,
   "id": "lesser-advance",
   "metadata": {},
   "outputs": [],
   "source": [
    "import seaborn as sns\n",
    "# sns.get_dataset_names()\n",
    "(\n",
    "    sns.load_dataset('gammas')\n",
    "    .head(20)\n",
    "    .sort_values(by='BOLD signal')\n",
    "    .style.bar(subset='BOLD signal', align='mid', color=['green', 'red'])\n",
    ")"
   ]
  },
  {
   "cell_type": "code",
   "execution_count": null,
   "id": "other-petite",
   "metadata": {},
   "outputs": [],
   "source": []
  },
  {
   "cell_type": "code",
   "execution_count": null,
   "id": "smoking-hamburg",
   "metadata": {},
   "outputs": [],
   "source": []
  },
  {
   "cell_type": "code",
   "execution_count": null,
   "id": "upper-currency",
   "metadata": {},
   "outputs": [],
   "source": []
  },
  {
   "cell_type": "code",
   "execution_count": null,
   "id": "third-electricity",
   "metadata": {},
   "outputs": [],
   "source": []
  },
  {
   "cell_type": "code",
   "execution_count": null,
   "id": "exempt-vector",
   "metadata": {},
   "outputs": [],
   "source": []
  },
  {
   "cell_type": "code",
   "execution_count": null,
   "id": "turned-discovery",
   "metadata": {},
   "outputs": [],
   "source": []
  },
  {
   "cell_type": "code",
   "execution_count": null,
   "id": "drawn-contents",
   "metadata": {},
   "outputs": [],
   "source": []
  },
  {
   "cell_type": "code",
   "execution_count": null,
   "id": "viral-southwest",
   "metadata": {},
   "outputs": [],
   "source": []
  },
  {
   "cell_type": "code",
   "execution_count": null,
   "id": "ranging-douglas",
   "metadata": {},
   "outputs": [],
   "source": []
  },
  {
   "cell_type": "code",
   "execution_count": null,
   "id": "offshore-engagement",
   "metadata": {},
   "outputs": [],
   "source": []
  },
  {
   "cell_type": "code",
   "execution_count": null,
   "id": "governing-objective",
   "metadata": {},
   "outputs": [],
   "source": []
  },
  {
   "cell_type": "code",
   "execution_count": null,
   "id": "crazy-spank",
   "metadata": {},
   "outputs": [],
   "source": []
  },
  {
   "cell_type": "code",
   "execution_count": null,
   "id": "restricted-appraisal",
   "metadata": {},
   "outputs": [],
   "source": []
  },
  {
   "cell_type": "code",
   "execution_count": null,
   "id": "featured-breach",
   "metadata": {},
   "outputs": [],
   "source": []
  },
  {
   "cell_type": "code",
   "execution_count": null,
   "id": "smooth-receptor",
   "metadata": {},
   "outputs": [],
   "source": []
  },
  {
   "cell_type": "code",
   "execution_count": null,
   "id": "transsexual-microphone",
   "metadata": {},
   "outputs": [],
   "source": []
  },
  {
   "cell_type": "code",
   "execution_count": null,
   "id": "spanish-stage",
   "metadata": {},
   "outputs": [],
   "source": []
  },
  {
   "cell_type": "code",
   "execution_count": null,
   "id": "increasing-employee",
   "metadata": {},
   "outputs": [],
   "source": []
  },
  {
   "cell_type": "code",
   "execution_count": null,
   "id": "invalid-robert",
   "metadata": {},
   "outputs": [],
   "source": []
  },
  {
   "cell_type": "code",
   "execution_count": null,
   "id": "north-percentage",
   "metadata": {},
   "outputs": [],
   "source": []
  },
  {
   "cell_type": "code",
   "execution_count": null,
   "id": "intimate-label",
   "metadata": {},
   "outputs": [],
   "source": []
  },
  {
   "cell_type": "code",
   "execution_count": null,
   "id": "sustained-teens",
   "metadata": {},
   "outputs": [],
   "source": []
  },
  {
   "cell_type": "code",
   "execution_count": null,
   "id": "adequate-hopkins",
   "metadata": {},
   "outputs": [],
   "source": []
  }
 ],
 "metadata": {
  "kernelspec": {
   "display_name": "Python 3",
   "language": "python",
   "name": "python3"
  },
  "language_info": {
   "codemirror_mode": {
    "name": "ipython",
    "version": 3
   },
   "file_extension": ".py",
   "mimetype": "text/x-python",
   "name": "python",
   "nbconvert_exporter": "python",
   "pygments_lexer": "ipython3",
   "version": "3.9.2"
  }
 },
 "nbformat": 4,
 "nbformat_minor": 5
}