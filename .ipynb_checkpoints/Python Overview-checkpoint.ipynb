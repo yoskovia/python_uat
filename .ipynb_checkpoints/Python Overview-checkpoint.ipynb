{
 "cells": [
  {
   "cell_type": "markdown",
   "id": "banned-sample",
   "metadata": {},
   "source": [
    "# Python Overview\n",
    "\n",
    "Agenda:\n",
    "- What is it?\n",
    "- What can it be used for?\n",
    "- Dive into to details\n",
    "- Where to next?"
   ]
  },
  {
   "cell_type": "code",
   "execution_count": null,
   "id": "challenging-serum",
   "metadata": {},
   "outputs": [],
   "source": []
  }
 ],
 "metadata": {
  "kernelspec": {
   "display_name": "Python 3",
   "language": "python",
   "name": "python3"
  },
  "language_info": {
   "codemirror_mode": {
    "name": "ipython",
    "version": 3
   },
   "file_extension": ".py",
   "mimetype": "text/x-python",
   "name": "python",
   "nbconvert_exporter": "python",
   "pygments_lexer": "ipython3",
   "version": "3.9.2"
  }
 },
 "nbformat": 4,
 "nbformat_minor": 5
}
