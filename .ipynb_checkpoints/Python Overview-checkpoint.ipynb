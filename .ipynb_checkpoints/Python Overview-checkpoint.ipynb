{
 "cells": [
  {
   "cell_type": "markdown",
   "id": "raising-builder",
   "metadata": {},
   "source": [
    "# Python Basics"
   ]
  },
  {
   "cell_type": "markdown",
   "id": "developmental-machine",
   "metadata": {},
   "source": [
    "### Topic Agenda\n",
    "- Getting Help\n",
    "- Operations\n",
    "- Lists\n",
    "- Loops\n",
    "- Dictionaries\n",
    "- Conditional Logic\n",
    "- Functions"
   ]
  },
  {
   "cell_type": "code",
   "execution_count": null,
   "id": "hidden-ultimate",
   "metadata": {},
   "outputs": [],
   "source": [
    "# Click this cell, and then click the \"Run\" button above to execute the code within\n",
    "print('Hello world!')"
   ]
  },
  {
   "cell_type": "markdown",
   "id": "executive-archives",
   "metadata": {
    "tags": []
   },
   "source": [
    "## Getting Help"
   ]
  },
  {
   "cell_type": "markdown",
   "id": "organic-johnson",
   "metadata": {},
   "source": [
    "Sample situation: I'd like to capitalize all the letters in a variable.\n",
    "\n",
    "- `help(str)` will print out the help page for an object\n",
    "- `type(variable)` will show the type of a `variable`\n",
    "- `dir(variable)` will show you the things you can do with `variable`"
   ]
  },
  {
   "cell_type": "code",
   "execution_count": null,
   "id": "round-pendant",
   "metadata": {},
   "outputs": [],
   "source": [
    "my_name = 'Anthony'\n",
    "type(my_name)"
   ]
  },
  {
   "cell_type": "code",
   "execution_count": null,
   "id": "dated-fairy",
   "metadata": {
    "tags": []
   },
   "outputs": [],
   "source": [
    "# What operations can I perform on my_name?\n",
    "dir(my_name)"
   ]
  },
  {
   "cell_type": "code",
   "execution_count": null,
   "id": "divided-observer",
   "metadata": {},
   "outputs": [],
   "source": [
    "# upper looks like what I want to do, I'd like to read more about it.\n",
    "help(str.upper)"
   ]
  },
  {
   "cell_type": "code",
   "execution_count": null,
   "id": "handmade-olive",
   "metadata": {},
   "outputs": [],
   "source": [
    "my_name.upper()"
   ]
  },
  {
   "cell_type": "code",
   "execution_count": null,
   "id": "floral-contact",
   "metadata": {},
   "outputs": [],
   "source": [
    "my_name"
   ]
  },
  {
   "cell_type": "code",
   "execution_count": null,
   "id": "daily-genius",
   "metadata": {},
   "outputs": [],
   "source": [
    "?str.isupper"
   ]
  },
  {
   "cell_type": "code",
   "execution_count": null,
   "id": "fossil-learning",
   "metadata": {},
   "outputs": [],
   "source": [
    "help(str.isupper)"
   ]
  },
  {
   "cell_type": "code",
   "execution_count": null,
   "id": "unsigned-separation",
   "metadata": {},
   "outputs": [],
   "source": [
    "my_name.isupper()"
   ]
  },
  {
   "cell_type": "code",
   "execution_count": null,
   "id": "coordinate-palmer",
   "metadata": {},
   "outputs": [],
   "source": [
    "'32'.zfill(4)"
   ]
  },
  {
   "cell_type": "markdown",
   "id": "ahead-preparation",
   "metadata": {},
   "source": [
    "### Python is a case sensitive language, so the following will not work."
   ]
  },
  {
   "cell_type": "code",
   "execution_count": null,
   "id": "planned-specialist",
   "metadata": {},
   "outputs": [],
   "source": [
    "print(My_name)"
   ]
  },
  {
   "cell_type": "markdown",
   "id": "vocal-world",
   "metadata": {},
   "source": [
    "Can also make numbers"
   ]
  },
  {
   "cell_type": "code",
   "execution_count": null,
   "id": "postal-bible",
   "metadata": {},
   "outputs": [],
   "source": [
    "my_number = 57\n",
    "my_number"
   ]
  },
  {
   "cell_type": "code",
   "execution_count": null,
   "id": "ordinary-narrative",
   "metadata": {},
   "outputs": [],
   "source": [
    "type(my_number) # int = integer"
   ]
  },
  {
   "cell_type": "markdown",
   "id": "biological-glucose",
   "metadata": {},
   "source": [
    "## Operations - Python As A Calculator"
   ]
  },
  {
   "cell_type": "code",
   "execution_count": null,
   "id": "superb-cincinnati",
   "metadata": {},
   "outputs": [],
   "source": [
    "my_number + 100"
   ]
  },
  {
   "cell_type": "code",
   "execution_count": null,
   "id": "cathedral-spain",
   "metadata": {},
   "outputs": [],
   "source": [
    "my_number - 100"
   ]
  },
  {
   "cell_type": "code",
   "execution_count": null,
   "id": "vertical-calculation",
   "metadata": {},
   "outputs": [],
   "source": [
    "my_number * 100"
   ]
  },
  {
   "cell_type": "code",
   "execution_count": null,
   "id": "consistent-trash",
   "metadata": {},
   "outputs": [],
   "source": [
    "my_number ** 2"
   ]
  },
  {
   "cell_type": "code",
   "execution_count": null,
   "id": "shared-lodging",
   "metadata": {},
   "outputs": [],
   "source": [
    "my_number // 3"
   ]
  },
  {
   "cell_type": "code",
   "execution_count": null,
   "id": "baking-scientist",
   "metadata": {},
   "outputs": [],
   "source": [
    "(my_number / 15) ** 2"
   ]
  },
  {
   "cell_type": "code",
   "execution_count": null,
   "id": "authentic-biotechnology",
   "metadata": {},
   "outputs": [],
   "source": [
    "my_number % 2 # Mod"
   ]
  },
  {
   "cell_type": "markdown",
   "id": "searching-playback",
   "metadata": {},
   "source": [
    "## Lists - Collecting similar variables"
   ]
  },
  {
   "cell_type": "code",
   "execution_count": null,
   "id": "martial-staff",
   "metadata": {},
   "outputs": [],
   "source": [
    "fruits = ['apples', 'oranges']"
   ]
  },
  {
   "cell_type": "markdown",
   "id": "unlikely-converter",
   "metadata": {},
   "source": [
    "Lists can contain different types"
   ]
  },
  {
   "cell_type": "code",
   "execution_count": null,
   "id": "dirty-duplicate",
   "metadata": {},
   "outputs": [],
   "source": [
    "another_list = ['name', 500]"
   ]
  },
  {
   "cell_type": "code",
   "execution_count": null,
   "id": "pressed-atlantic",
   "metadata": {},
   "outputs": [],
   "source": [
    "another_list"
   ]
  },
  {
   "cell_type": "code",
   "execution_count": null,
   "id": "checked-password",
   "metadata": {},
   "outputs": [],
   "source": [
    "fruits[0]"
   ]
  },
  {
   "cell_type": "code",
   "execution_count": null,
   "id": "closed-electricity",
   "metadata": {},
   "outputs": [],
   "source": [
    "fruits[1]"
   ]
  },
  {
   "cell_type": "code",
   "execution_count": null,
   "id": "facial-imagination",
   "metadata": {},
   "outputs": [],
   "source": [
    "len(fruits)"
   ]
  },
  {
   "cell_type": "markdown",
   "id": "judicial-clark",
   "metadata": {},
   "source": [
    "## Loops - Doing something multiple times"
   ]
  },
  {
   "cell_type": "code",
   "execution_count": null,
   "id": "phantom-screen",
   "metadata": {},
   "outputs": [],
   "source": [
    "for name in ['anthony', 'mittens']:\n",
    "    print(name.upper())"
   ]
  },
  {
   "cell_type": "code",
   "execution_count": null,
   "id": "herbal-charity",
   "metadata": {},
   "outputs": [],
   "source": [
    "all_names = ['foo', 'bar']\n",
    "for name in all_names:\n",
    "    # name could be anything, but 'all_names' must be a variable\n",
    "    print(name)"
   ]
  },
  {
   "cell_type": "markdown",
   "id": "duplicate-warning",
   "metadata": {},
   "source": [
    "## What if I want to apply a function / method to each element of a list?"
   ]
  },
  {
   "cell_type": "code",
   "execution_count": null,
   "id": "capital-implementation",
   "metadata": {},
   "outputs": [],
   "source": [
    "# Intermediate topic: List comprehensions\n",
    "[name.upper() for name in ['anthony', 'mittens']]"
   ]
  },
  {
   "cell_type": "markdown",
   "id": "monetary-murray",
   "metadata": {},
   "source": [
    "## Dictionaries - Collecting similar variables with names"
   ]
  },
  {
   "cell_type": "code",
   "execution_count": null,
   "id": "headed-bruce",
   "metadata": {},
   "outputs": [],
   "source": [
    "my_dict = {'name':'anthony', 'favorite food':'gorditas'}\n",
    "my_dict"
   ]
  },
  {
   "cell_type": "code",
   "execution_count": null,
   "id": "greek-agriculture",
   "metadata": {},
   "outputs": [],
   "source": [
    "my_dict['name']"
   ]
  },
  {
   "cell_type": "code",
   "execution_count": null,
   "id": "postal-trail",
   "metadata": {},
   "outputs": [],
   "source": [
    "my_dict['favorite food']"
   ]
  },
  {
   "cell_type": "markdown",
   "id": "tired-prototype",
   "metadata": {},
   "source": [
    "### Structures can be nested"
   ]
  },
  {
   "cell_type": "code",
   "execution_count": null,
   "id": "gorgeous-concern",
   "metadata": {},
   "outputs": [],
   "source": [
    "nested = {\n",
    "    'names':['anthony', 'mittens'],\n",
    "    'cars':['honda', 'ford'],\n",
    "    'title':'Here is a sentence.'\n",
    "}"
   ]
  },
  {
   "cell_type": "code",
   "execution_count": null,
   "id": "changed-netherlands",
   "metadata": {},
   "outputs": [],
   "source": [
    "nested['names']"
   ]
  },
  {
   "cell_type": "code",
   "execution_count": null,
   "id": "developmental-presentation",
   "metadata": {},
   "outputs": [],
   "source": [
    "nested['cars']"
   ]
  },
  {
   "cell_type": "code",
   "execution_count": null,
   "id": "central-transportation",
   "metadata": {},
   "outputs": [],
   "source": [
    "nested['title']"
   ]
  },
  {
   "cell_type": "markdown",
   "id": "specific-turkey",
   "metadata": {},
   "source": [
    "## Conditional Logic: Making decisions"
   ]
  },
  {
   "cell_type": "code",
   "execution_count": null,
   "id": "acceptable-literature",
   "metadata": {},
   "outputs": [],
   "source": [
    "10 > 5"
   ]
  },
  {
   "cell_type": "code",
   "execution_count": null,
   "id": "hindu-salon",
   "metadata": {},
   "outputs": [],
   "source": [
    "5 < 1"
   ]
  },
  {
   "cell_type": "code",
   "execution_count": null,
   "id": "nervous-consolidation",
   "metadata": {},
   "outputs": [],
   "source": [
    "1 = 2"
   ]
  },
  {
   "cell_type": "markdown",
   "id": "opened-struggle",
   "metadata": {},
   "source": [
    "Use `==` to check equality"
   ]
  },
  {
   "cell_type": "code",
   "execution_count": null,
   "id": "applicable-eligibility",
   "metadata": {},
   "outputs": [],
   "source": [
    "1 == 2"
   ]
  },
  {
   "cell_type": "code",
   "execution_count": null,
   "id": "stainless-purple",
   "metadata": {},
   "outputs": [],
   "source": [
    "age = 10\n",
    "if age > 50:\n",
    "    # Use \\ to escape quotes\n",
    "    print('You\\'re over 50!')\n",
    "else:\n",
    "    print(\"You're less than 50\")"
   ]
  },
  {
   "cell_type": "code",
   "execution_count": null,
   "id": "plastic-color",
   "metadata": {},
   "outputs": [],
   "source": [
    "if age == 10 or age == 20 or age == 30:\n",
    "    print('Nice, your age is either 10 or 20 or 30')\n",
    "else:\n",
    "    print('Your age isnt in the list')"
   ]
  },
  {
   "cell_type": "code",
   "execution_count": null,
   "id": "fabulous-indie",
   "metadata": {},
   "outputs": [],
   "source": [
    "if age in [10, 20, 30]:\n",
    "    print('Nice, your age is either 10 or 20')\n",
    "else:\n",
    "    print('Your age isnt in the list')"
   ]
  },
  {
   "cell_type": "markdown",
   "id": "looking-logan",
   "metadata": {},
   "source": [
    "## Functions"
   ]
  }
 ],
 "metadata": {
  "kernelspec": {
   "display_name": "Python 3",
   "language": "python",
   "name": "python3"
  },
  "language_info": {
   "codemirror_mode": {
    "name": "ipython",
    "version": 3
   },
   "file_extension": ".py",
   "mimetype": "text/x-python",
   "name": "python",
   "nbconvert_exporter": "python",
   "pygments_lexer": "ipython3",
   "version": "3.9.2"
  }
 },
 "nbformat": 4,
 "nbformat_minor": 5
}
