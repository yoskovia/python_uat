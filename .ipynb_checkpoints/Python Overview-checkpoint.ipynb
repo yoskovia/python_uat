{
 "cells": [
  {
   "cell_type": "markdown",
   "id": "prostate-friendly",
   "metadata": {},
   "source": [
    "# Python Basics\n",
    "\n",
    "This is a jupyter notebook environment and it allows us to run Python code and see the results all within this page. This is not the only way to edit / run python code. "
   ]
  },
  {
   "cell_type": "code",
   "execution_count": null,
   "id": "adaptive-digest",
   "metadata": {},
   "outputs": [],
   "source": [
    "# Click this cell, and then click the \"Run\" button above to execute the code within\n",
    "print('Hello world!')"
   ]
  },
  {
   "cell_type": "markdown",
   "id": "welsh-geography",
   "metadata": {},
   "source": [
    "### In Python you create variables using the `=` sign. "
   ]
  },
  {
   "cell_type": "code",
   "execution_count": null,
   "id": "lasting-birmingham",
   "metadata": {},
   "outputs": [],
   "source": [
    "my_name = 'Anthony'\n",
    "my_name"
   ]
  },
  {
   "cell_type": "markdown",
   "id": "equal-medicare",
   "metadata": {},
   "source": [
    "### Use the `type` function to determine the type of a variable\n",
    "- `my_name` is a variable of type `str` (String)"
   ]
  },
  {
   "cell_type": "code",
   "execution_count": null,
   "id": "fundamental-mistake",
   "metadata": {},
   "outputs": [],
   "source": [
    "type(my_name)"
   ]
  },
  {
   "cell_type": "code",
   "execution_count": null,
   "id": "wireless-tiger",
   "metadata": {},
   "outputs": [],
   "source": [
    "str.count"
   ]
  },
  {
   "cell_type": "code",
   "execution_count": null,
   "id": "precious-montana",
   "metadata": {},
   "outputs": [],
   "source": [
    "help(str.count)"
   ]
  },
  {
   "cell_type": "code",
   "execution_count": null,
   "id": "latter-exclusion",
   "metadata": {
    "scrolled": true
   },
   "outputs": [],
   "source": [
    "dir(str) # to see all available methods"
   ]
  },
  {
   "cell_type": "code",
   "execution_count": null,
   "id": "worth-reflection",
   "metadata": {},
   "outputs": [],
   "source": [
    "help(str.upper)"
   ]
  },
  {
   "cell_type": "code",
   "execution_count": null,
   "id": "therapeutic-junction",
   "metadata": {},
   "outputs": [],
   "source": [
    "my_name.upper()"
   ]
  },
  {
   "cell_type": "code",
   "execution_count": null,
   "id": "south-trustee",
   "metadata": {},
   "outputs": [],
   "source": [
    "my_name"
   ]
  },
  {
   "cell_type": "code",
   "execution_count": null,
   "id": "authentic-robin",
   "metadata": {},
   "outputs": [],
   "source": [
    "?str.isupper"
   ]
  },
  {
   "cell_type": "code",
   "execution_count": null,
   "id": "cleared-mining",
   "metadata": {},
   "outputs": [],
   "source": [
    "my_name.isupper()"
   ]
  },
  {
   "cell_type": "code",
   "execution_count": null,
   "id": "plain-nudist",
   "metadata": {},
   "outputs": [],
   "source": [
    "'32'.zfill(4)"
   ]
  },
  {
   "cell_type": "code",
   "execution_count": null,
   "id": "architectural-gravity",
   "metadata": {},
   "outputs": [],
   "source": [
    "?str"
   ]
  },
  {
   "cell_type": "markdown",
   "id": "soviet-harvey",
   "metadata": {},
   "source": [
    "### Python is a case sensitive language, so the following will not work."
   ]
  },
  {
   "cell_type": "code",
   "execution_count": null,
   "id": "spectacular-debate",
   "metadata": {},
   "outputs": [],
   "source": [
    "print(My_name)"
   ]
  },
  {
   "cell_type": "markdown",
   "id": "wrapped-provision",
   "metadata": {},
   "source": [
    "Can also make numbers"
   ]
  },
  {
   "cell_type": "code",
   "execution_count": null,
   "id": "living-writer",
   "metadata": {},
   "outputs": [],
   "source": [
    "my_number = 57\n",
    "my_number"
   ]
  },
  {
   "cell_type": "code",
   "execution_count": null,
   "id": "aggressive-questionnaire",
   "metadata": {},
   "outputs": [],
   "source": [
    "type(my_number) # int = integer"
   ]
  },
  {
   "cell_type": "markdown",
   "id": "vital-juice",
   "metadata": {},
   "source": [
    "## Operations"
   ]
  },
  {
   "cell_type": "code",
   "execution_count": null,
   "id": "inner-timber",
   "metadata": {},
   "outputs": [],
   "source": [
    "my_number + 100"
   ]
  },
  {
   "cell_type": "code",
   "execution_count": null,
   "id": "above-absence",
   "metadata": {},
   "outputs": [],
   "source": [
    "my_number - 100"
   ]
  },
  {
   "cell_type": "code",
   "execution_count": null,
   "id": "atlantic-officer",
   "metadata": {},
   "outputs": [],
   "source": [
    "my_number * 100"
   ]
  },
  {
   "cell_type": "code",
   "execution_count": null,
   "id": "public-current",
   "metadata": {},
   "outputs": [],
   "source": [
    "my_number ** 2"
   ]
  },
  {
   "cell_type": "code",
   "execution_count": null,
   "id": "medieval-wilderness",
   "metadata": {},
   "outputs": [],
   "source": [
    "my_number // 3"
   ]
  },
  {
   "cell_type": "code",
   "execution_count": null,
   "id": "banned-spotlight",
   "metadata": {},
   "outputs": [],
   "source": [
    "(my_number / 15) ** 2"
   ]
  },
  {
   "cell_type": "code",
   "execution_count": null,
   "id": "promising-peninsula",
   "metadata": {},
   "outputs": [],
   "source": [
    "my_number % 2 # Mod"
   ]
  },
  {
   "cell_type": "markdown",
   "id": "operational-shell",
   "metadata": {},
   "source": [
    "## Lists"
   ]
  },
  {
   "cell_type": "code",
   "execution_count": null,
   "id": "greek-gravity",
   "metadata": {},
   "outputs": [],
   "source": [
    "my_list = ['apples', 'oranges']"
   ]
  },
  {
   "cell_type": "markdown",
   "id": "interesting-memorial",
   "metadata": {},
   "source": [
    "Lists can contain different types"
   ]
  },
  {
   "cell_type": "code",
   "execution_count": null,
   "id": "cheap-costs",
   "metadata": {},
   "outputs": [],
   "source": [
    "another_list = ['name', 500]"
   ]
  },
  {
   "cell_type": "code",
   "execution_count": null,
   "id": "cutting-interface",
   "metadata": {},
   "outputs": [],
   "source": [
    "my_list[0]"
   ]
  },
  {
   "cell_type": "code",
   "execution_count": null,
   "id": "postal-blast",
   "metadata": {},
   "outputs": [],
   "source": [
    "my_list[1]"
   ]
  },
  {
   "cell_type": "code",
   "execution_count": null,
   "id": "marked-programmer",
   "metadata": {},
   "outputs": [],
   "source": [
    "len(my_list)"
   ]
  },
  {
   "cell_type": "code",
   "execution_count": null,
   "id": "actual-release",
   "metadata": {},
   "outputs": [],
   "source": [
    "for name in ['anthony', 'mittens']:\n",
    "    print(name.upper())"
   ]
  },
  {
   "cell_type": "code",
   "execution_count": null,
   "id": "proud-skating",
   "metadata": {},
   "outputs": [],
   "source": [
    "# Intermediate topic: List comprehensions\n",
    "[name.upper() for name in ['anthony', 'mittens']]"
   ]
  },
  {
   "cell_type": "markdown",
   "id": "informal-appeal",
   "metadata": {},
   "source": [
    "## Loops"
   ]
  },
  {
   "cell_type": "code",
   "execution_count": null,
   "id": "subject-daughter",
   "metadata": {},
   "outputs": [],
   "source": [
    "all_names = ['foo', 'bar']\n",
    "for name in all_names:\n",
    "    # name could be anything, but 'all_names' must be a variable\n",
    "    print(name)"
   ]
  },
  {
   "cell_type": "markdown",
   "id": "authentic-vampire",
   "metadata": {},
   "source": [
    "## Dictionaries"
   ]
  },
  {
   "cell_type": "code",
   "execution_count": null,
   "id": "appointed-potter",
   "metadata": {},
   "outputs": [],
   "source": [
    "my_dict = {'name':'anthony', 'favorite food':'gorditas'}"
   ]
  },
  {
   "cell_type": "code",
   "execution_count": null,
   "id": "institutional-permit",
   "metadata": {},
   "outputs": [],
   "source": [
    "my_dict['name']"
   ]
  },
  {
   "cell_type": "code",
   "execution_count": null,
   "id": "compressed-montreal",
   "metadata": {},
   "outputs": [],
   "source": [
    "my_dict['favorite food']"
   ]
  },
  {
   "cell_type": "markdown",
   "id": "distant-music",
   "metadata": {},
   "source": [
    "Structures can be nested"
   ]
  },
  {
   "cell_type": "code",
   "execution_count": null,
   "id": "worthy-constitutional",
   "metadata": {},
   "outputs": [],
   "source": [
    "nested = {\n",
    "    'names':['anthony', 'mittens'],\n",
    "    'cars':['honda', 'ford'],\n",
    "    'title':'Here is a sentence.'\n",
    "}"
   ]
  },
  {
   "cell_type": "code",
   "execution_count": null,
   "id": "israeli-navigation",
   "metadata": {},
   "outputs": [],
   "source": [
    "nested['names']"
   ]
  },
  {
   "cell_type": "code",
   "execution_count": null,
   "id": "representative-middle",
   "metadata": {},
   "outputs": [],
   "source": [
    "nested['cars']"
   ]
  },
  {
   "cell_type": "code",
   "execution_count": null,
   "id": "destroyed-terry",
   "metadata": {},
   "outputs": [],
   "source": [
    "nested['title']"
   ]
  },
  {
   "cell_type": "markdown",
   "id": "senior-strike",
   "metadata": {},
   "source": [
    "### Making decisions"
   ]
  },
  {
   "cell_type": "code",
   "execution_count": null,
   "id": "confirmed-shanghai",
   "metadata": {},
   "outputs": [],
   "source": [
    "10 > 5"
   ]
  },
  {
   "cell_type": "code",
   "execution_count": null,
   "id": "false-guest",
   "metadata": {},
   "outputs": [],
   "source": [
    "5 < 1"
   ]
  },
  {
   "cell_type": "code",
   "execution_count": null,
   "id": "relative-commissioner",
   "metadata": {},
   "outputs": [],
   "source": [
    "1 = 2"
   ]
  },
  {
   "cell_type": "markdown",
   "id": "advised-protocol",
   "metadata": {},
   "source": [
    "Use `==` to check equality"
   ]
  },
  {
   "cell_type": "code",
   "execution_count": null,
   "id": "modified-chick",
   "metadata": {},
   "outputs": [],
   "source": [
    "1 == 2"
   ]
  },
  {
   "cell_type": "code",
   "execution_count": null,
   "id": "attractive-junior",
   "metadata": {},
   "outputs": [],
   "source": [
    "age = 10\n",
    "if age > 50:\n",
    "    # Use \\ to escape quotes\n",
    "    print('You\\'re over 50!')\n",
    "else:\n",
    "    print(\"You're less than 50\")"
   ]
  },
  {
   "cell_type": "code",
   "execution_count": null,
   "id": "posted-plant",
   "metadata": {},
   "outputs": [],
   "source": [
    "if age == 10 or age == 20 or age == 30:\n",
    "    print('Nice, your age is either 10 or 20 or 30')\n",
    "else:\n",
    "    print('Your age isnt in the list')"
   ]
  },
  {
   "cell_type": "code",
   "execution_count": null,
   "id": "scenic-attendance",
   "metadata": {},
   "outputs": [],
   "source": [
    "if age in [10, 20, 30]:\n",
    "    print('Nice, your age is either 10 or 20')\n",
    "else:\n",
    "    print('Your age isnt in the list')"
   ]
  }
 ],
 "metadata": {
  "kernelspec": {
   "display_name": "Python 3",
   "language": "python",
   "name": "python3"
  },
  "language_info": {
   "codemirror_mode": {
    "name": "ipython",
    "version": 3
   },
   "file_extension": ".py",
   "mimetype": "text/x-python",
   "name": "python",
   "nbconvert_exporter": "python",
   "pygments_lexer": "ipython3",
   "version": "3.9.2"
  }
 },
 "nbformat": 4,
 "nbformat_minor": 5
}
