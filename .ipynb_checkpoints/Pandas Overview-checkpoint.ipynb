{
 "cells": [
  {
   "cell_type": "markdown",
   "id": "nonprofit-blame",
   "metadata": {},
   "source": [
    "# Manipulating Data with `pandas`"
   ]
  },
  {
   "cell_type": "code",
   "execution_count": null,
   "id": "electrical-estimate",
   "metadata": {},
   "outputs": [],
   "source": [
    "import pandas as pd\n",
    "\n",
    "pinball = pd.DataFrame({\n",
    "    'name':['anthony', 'jim', 'tom'],\n",
    "    'score':[100, 2, 3]\n",
    "})"
   ]
  },
  {
   "cell_type": "code",
   "execution_count": null,
   "id": "faced-patrol",
   "metadata": {},
   "outputs": [],
   "source": [
    "pinball"
   ]
  },
  {
   "cell_type": "code",
   "execution_count": null,
   "id": "lyric-promise",
   "metadata": {},
   "outputs": [],
   "source": [
    "pinball.shape"
   ]
  },
  {
   "cell_type": "code",
   "execution_count": null,
   "id": "acute-captain",
   "metadata": {},
   "outputs": [],
   "source": [
    "pinball.dtypes"
   ]
  },
  {
   "cell_type": "code",
   "execution_count": null,
   "id": "suspended-blind",
   "metadata": {},
   "outputs": [],
   "source": [
    "pinball.columns"
   ]
  },
  {
   "cell_type": "code",
   "execution_count": null,
   "id": "vertical-madison",
   "metadata": {},
   "outputs": [],
   "source": [
    "pinball.rename(columns={'name':'persons name'})"
   ]
  },
  {
   "cell_type": "code",
   "execution_count": null,
   "id": "active-planner",
   "metadata": {},
   "outputs": [],
   "source": [
    "pinball['score'] > 50"
   ]
  },
  {
   "cell_type": "code",
   "execution_count": null,
   "id": "voluntary-penetration",
   "metadata": {},
   "outputs": [],
   "source": [
    "pinball[pinball['score'] > 50]"
   ]
  },
  {
   "cell_type": "code",
   "execution_count": null,
   "id": "assisted-benchmark",
   "metadata": {},
   "outputs": [],
   "source": [
    "pinball.loc[lambda x: x['score'] > 50]"
   ]
  }
 ],
 "metadata": {
  "kernelspec": {
   "display_name": "Python 3",
   "language": "python",
   "name": "python3"
  },
  "language_info": {
   "codemirror_mode": {
    "name": "ipython",
    "version": 3
   },
   "file_extension": ".py",
   "mimetype": "text/x-python",
   "name": "python",
   "nbconvert_exporter": "python",
   "pygments_lexer": "ipython3",
   "version": "3.9.2"
  }
 },
 "nbformat": 4,
 "nbformat_minor": 5
}
