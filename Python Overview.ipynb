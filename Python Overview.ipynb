{
 "cells": [
  {
   "cell_type": "markdown",
   "id": "extraordinary-turkey",
   "metadata": {},
   "source": [
    "# Python Basics"
   ]
  },
  {
   "cell_type": "code",
   "execution_count": null,
   "id": "radio-affair",
   "metadata": {},
   "outputs": [],
   "source": [
    "# Click this cell, and then click the \"Run\" button above to execute the code within\n",
    "print('Hello world!')"
   ]
  },
  {
   "cell_type": "markdown",
   "id": "curious-chancellor",
   "metadata": {},
   "source": [
    "### In Python you create variables using the `=` sign. "
   ]
  },
  {
   "cell_type": "code",
   "execution_count": null,
   "id": "round-bookmark",
   "metadata": {},
   "outputs": [],
   "source": [
    "my_name = 'Anthony'\n",
    "my_name"
   ]
  },
  {
   "cell_type": "markdown",
   "id": "removable-conversation",
   "metadata": {},
   "source": [
    "### Use the `type` function to determine the type of a variable\n",
    "- `my_name` is a variable of type `str` (String)"
   ]
  },
  {
   "cell_type": "code",
   "execution_count": null,
   "id": "liked-fountain",
   "metadata": {},
   "outputs": [],
   "source": [
    "type(my_name)"
   ]
  },
  {
   "cell_type": "code",
   "execution_count": null,
   "id": "marked-globe",
   "metadata": {},
   "outputs": [],
   "source": [
    "str.count"
   ]
  },
  {
   "cell_type": "code",
   "execution_count": null,
   "id": "southern-circle",
   "metadata": {},
   "outputs": [],
   "source": [
    "help(str.count)"
   ]
  },
  {
   "cell_type": "code",
   "execution_count": null,
   "id": "violent-webster",
   "metadata": {
    "scrolled": true
   },
   "outputs": [],
   "source": [
    "dir(str) # to see all available methods"
   ]
  },
  {
   "cell_type": "code",
   "execution_count": null,
   "id": "dependent-table",
   "metadata": {},
   "outputs": [],
   "source": [
    "help(str.upper)"
   ]
  },
  {
   "cell_type": "code",
   "execution_count": null,
   "id": "searching-shopping",
   "metadata": {},
   "outputs": [],
   "source": [
    "my_name.upper()"
   ]
  },
  {
   "cell_type": "code",
   "execution_count": null,
   "id": "regular-basket",
   "metadata": {},
   "outputs": [],
   "source": [
    "my_name"
   ]
  },
  {
   "cell_type": "code",
   "execution_count": null,
   "id": "hydraulic-envelope",
   "metadata": {},
   "outputs": [],
   "source": [
    "?str.isupper"
   ]
  },
  {
   "cell_type": "code",
   "execution_count": null,
   "id": "polish-contamination",
   "metadata": {},
   "outputs": [],
   "source": [
    "my_name.isupper()"
   ]
  },
  {
   "cell_type": "code",
   "execution_count": null,
   "id": "limited-martin",
   "metadata": {},
   "outputs": [],
   "source": [
    "'32'.zfill(4)"
   ]
  },
  {
   "cell_type": "code",
   "execution_count": null,
   "id": "sapphire-studio",
   "metadata": {},
   "outputs": [],
   "source": [
    "?str"
   ]
  },
  {
   "cell_type": "markdown",
   "id": "arranged-arrow",
   "metadata": {},
   "source": [
    "### Python is a case sensitive language, so the following will not work."
   ]
  },
  {
   "cell_type": "code",
   "execution_count": null,
   "id": "reserved-embassy",
   "metadata": {},
   "outputs": [],
   "source": [
    "print(My_name)"
   ]
  },
  {
   "cell_type": "markdown",
   "id": "alternate-italian",
   "metadata": {},
   "source": [
    "Can also make numbers"
   ]
  },
  {
   "cell_type": "code",
   "execution_count": null,
   "id": "threatened-facing",
   "metadata": {},
   "outputs": [],
   "source": [
    "my_number = 57\n",
    "my_number"
   ]
  },
  {
   "cell_type": "code",
   "execution_count": null,
   "id": "informative-validation",
   "metadata": {},
   "outputs": [],
   "source": [
    "type(my_number) # int = integer"
   ]
  },
  {
   "cell_type": "markdown",
   "id": "miniature-olympus",
   "metadata": {},
   "source": [
    "## Operations"
   ]
  },
  {
   "cell_type": "code",
   "execution_count": null,
   "id": "operating-cloud",
   "metadata": {},
   "outputs": [],
   "source": [
    "my_number + 100"
   ]
  },
  {
   "cell_type": "code",
   "execution_count": null,
   "id": "beneficial-shelf",
   "metadata": {},
   "outputs": [],
   "source": [
    "my_number - 100"
   ]
  },
  {
   "cell_type": "code",
   "execution_count": null,
   "id": "proper-democracy",
   "metadata": {},
   "outputs": [],
   "source": [
    "my_number * 100"
   ]
  },
  {
   "cell_type": "code",
   "execution_count": null,
   "id": "lucky-spread",
   "metadata": {},
   "outputs": [],
   "source": [
    "my_number ** 2"
   ]
  },
  {
   "cell_type": "code",
   "execution_count": null,
   "id": "bridal-bundle",
   "metadata": {},
   "outputs": [],
   "source": [
    "my_number // 3"
   ]
  },
  {
   "cell_type": "code",
   "execution_count": null,
   "id": "ceramic-cambridge",
   "metadata": {},
   "outputs": [],
   "source": [
    "(my_number / 15) ** 2"
   ]
  },
  {
   "cell_type": "code",
   "execution_count": null,
   "id": "suffering-corner",
   "metadata": {},
   "outputs": [],
   "source": [
    "my_number % 2 # Mod"
   ]
  },
  {
   "cell_type": "markdown",
   "id": "frozen-trading",
   "metadata": {},
   "source": [
    "## Lists"
   ]
  },
  {
   "cell_type": "code",
   "execution_count": null,
   "id": "appropriate-china",
   "metadata": {},
   "outputs": [],
   "source": [
    "my_list = ['apples', 'oranges']"
   ]
  },
  {
   "cell_type": "markdown",
   "id": "electrical-motorcycle",
   "metadata": {},
   "source": [
    "Lists can contain different types"
   ]
  },
  {
   "cell_type": "code",
   "execution_count": null,
   "id": "induced-married",
   "metadata": {},
   "outputs": [],
   "source": [
    "another_list = ['name', 500]"
   ]
  },
  {
   "cell_type": "code",
   "execution_count": null,
   "id": "demonstrated-description",
   "metadata": {},
   "outputs": [],
   "source": [
    "my_list[0]"
   ]
  },
  {
   "cell_type": "code",
   "execution_count": null,
   "id": "genetic-split",
   "metadata": {},
   "outputs": [],
   "source": [
    "my_list[1]"
   ]
  },
  {
   "cell_type": "code",
   "execution_count": null,
   "id": "narrative-lighting",
   "metadata": {},
   "outputs": [],
   "source": [
    "len(my_list)"
   ]
  },
  {
   "cell_type": "code",
   "execution_count": null,
   "id": "spare-buffer",
   "metadata": {},
   "outputs": [],
   "source": [
    "for name in ['anthony', 'mittens']:\n",
    "    print(name.upper())"
   ]
  },
  {
   "cell_type": "code",
   "execution_count": null,
   "id": "affiliated-burner",
   "metadata": {},
   "outputs": [],
   "source": [
    "# Intermediate topic: List comprehensions\n",
    "[name.upper() for name in ['anthony', 'mittens']]"
   ]
  },
  {
   "cell_type": "markdown",
   "id": "affected-preference",
   "metadata": {},
   "source": [
    "## Loops"
   ]
  },
  {
   "cell_type": "code",
   "execution_count": null,
   "id": "cooked-corpus",
   "metadata": {},
   "outputs": [],
   "source": [
    "all_names = ['foo', 'bar']\n",
    "for name in all_names:\n",
    "    # name could be anything, but 'all_names' must be a variable\n",
    "    print(name)"
   ]
  },
  {
   "cell_type": "markdown",
   "id": "baking-clearing",
   "metadata": {},
   "source": [
    "## Dictionaries"
   ]
  },
  {
   "cell_type": "code",
   "execution_count": null,
   "id": "sublime-intervention",
   "metadata": {},
   "outputs": [],
   "source": [
    "my_dict = {'name':'anthony', 'favorite food':'gorditas'}"
   ]
  },
  {
   "cell_type": "code",
   "execution_count": null,
   "id": "numerous-cookbook",
   "metadata": {},
   "outputs": [],
   "source": [
    "my_dict['name']"
   ]
  },
  {
   "cell_type": "code",
   "execution_count": null,
   "id": "recent-madagascar",
   "metadata": {},
   "outputs": [],
   "source": [
    "my_dict['favorite food']"
   ]
  },
  {
   "cell_type": "markdown",
   "id": "focused-cloud",
   "metadata": {},
   "source": [
    "Structures can be nested"
   ]
  },
  {
   "cell_type": "code",
   "execution_count": null,
   "id": "short-stereo",
   "metadata": {},
   "outputs": [],
   "source": [
    "nested = {\n",
    "    'names':['anthony', 'mittens'],\n",
    "    'cars':['honda', 'ford'],\n",
    "    'title':'Here is a sentence.'\n",
    "}"
   ]
  },
  {
   "cell_type": "code",
   "execution_count": null,
   "id": "shaped-zealand",
   "metadata": {},
   "outputs": [],
   "source": [
    "nested['names']"
   ]
  },
  {
   "cell_type": "code",
   "execution_count": null,
   "id": "joint-battle",
   "metadata": {},
   "outputs": [],
   "source": [
    "nested['cars']"
   ]
  },
  {
   "cell_type": "code",
   "execution_count": null,
   "id": "everyday-camel",
   "metadata": {},
   "outputs": [],
   "source": [
    "nested['title']"
   ]
  },
  {
   "cell_type": "markdown",
   "id": "civil-camcorder",
   "metadata": {},
   "source": [
    "### Making decisions"
   ]
  },
  {
   "cell_type": "code",
   "execution_count": null,
   "id": "limiting-auction",
   "metadata": {},
   "outputs": [],
   "source": [
    "10 > 5"
   ]
  },
  {
   "cell_type": "code",
   "execution_count": null,
   "id": "twelve-mistake",
   "metadata": {},
   "outputs": [],
   "source": [
    "5 < 1"
   ]
  },
  {
   "cell_type": "code",
   "execution_count": null,
   "id": "textile-database",
   "metadata": {},
   "outputs": [],
   "source": [
    "1 = 2"
   ]
  },
  {
   "cell_type": "markdown",
   "id": "prospective-actor",
   "metadata": {},
   "source": [
    "Use `==` to check equality"
   ]
  },
  {
   "cell_type": "code",
   "execution_count": null,
   "id": "organizational-producer",
   "metadata": {},
   "outputs": [],
   "source": [
    "1 == 2"
   ]
  },
  {
   "cell_type": "code",
   "execution_count": null,
   "id": "closed-surface",
   "metadata": {},
   "outputs": [],
   "source": [
    "age = 10\n",
    "if age > 50:\n",
    "    # Use \\ to escape quotes\n",
    "    print('You\\'re over 50!')\n",
    "else:\n",
    "    print(\"You're less than 50\")"
   ]
  },
  {
   "cell_type": "code",
   "execution_count": null,
   "id": "marine-meeting",
   "metadata": {},
   "outputs": [],
   "source": [
    "if age == 10 or age == 20 or age == 30:\n",
    "    print('Nice, your age is either 10 or 20 or 30')\n",
    "else:\n",
    "    print('Your age isnt in the list')"
   ]
  },
  {
   "cell_type": "code",
   "execution_count": null,
   "id": "latest-gallery",
   "metadata": {},
   "outputs": [],
   "source": [
    "if age in [10, 20, 30]:\n",
    "    print('Nice, your age is either 10 or 20')\n",
    "else:\n",
    "    print('Your age isnt in the list')"
   ]
  }
 ],
 "metadata": {
  "kernelspec": {
   "display_name": "Python 3",
   "language": "python",
   "name": "python3"
  },
  "language_info": {
   "codemirror_mode": {
    "name": "ipython",
    "version": 3
   },
   "file_extension": ".py",
   "mimetype": "text/x-python",
   "name": "python",
   "nbconvert_exporter": "python",
   "pygments_lexer": "ipython3",
   "version": "3.9.2"
  }
 },
 "nbformat": 4,
 "nbformat_minor": 5
}
