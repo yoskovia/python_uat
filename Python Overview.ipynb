{
 "cells": [
  {
   "cell_type": "markdown",
   "id": "explicit-destruction",
   "metadata": {},
   "source": [
    "# Python Basics"
   ]
  },
  {
   "cell_type": "markdown",
   "id": "informational-calgary",
   "metadata": {},
   "source": [
    "### Topic Agenda\n",
    "- Getting Help\n",
    "- Operations\n",
    "- Lists\n",
    "- Loops\n",
    "- Dictionaries\n",
    "- Conditional Logic\n",
    "- Functions"
   ]
  },
  {
   "cell_type": "code",
   "execution_count": null,
   "id": "polyphonic-custody",
   "metadata": {},
   "outputs": [],
   "source": [
    "# Click this cell, and then click the \"Run\" button above to execute the code within\n",
    "print('Hello world!')"
   ]
  },
  {
   "cell_type": "markdown",
   "id": "three-bidder",
   "metadata": {
    "tags": []
   },
   "source": [
    "## Getting Help"
   ]
  },
  {
   "cell_type": "markdown",
   "id": "disciplinary-disposition",
   "metadata": {},
   "source": [
    "Sample situation: I'd like to capitalize all the letters in a variable.\n",
    "\n",
    "- `help(str)` will print out the help page for an object\n",
    "- `type(variable)` will show the type of a `variable`\n",
    "- `dir(variable)` will show you the things you can do with `variable`"
   ]
  },
  {
   "cell_type": "code",
   "execution_count": null,
   "id": "median-veteran",
   "metadata": {},
   "outputs": [],
   "source": [
    "my_name = 'Anthony'\n",
    "type(my_name)"
   ]
  },
  {
   "cell_type": "code",
   "execution_count": null,
   "id": "informal-degree",
   "metadata": {
    "collapsed": true,
    "jupyter": {
     "outputs_hidden": true
    },
    "tags": []
   },
   "outputs": [],
   "source": [
    "# What operations can I perform on my_name?\n",
    "dir(my_name)"
   ]
  },
  {
   "cell_type": "code",
   "execution_count": null,
   "id": "synthetic-revelation",
   "metadata": {},
   "outputs": [],
   "source": [
    "# upper looks like what I want to do, I'd like to read more about it.\n",
    "help(str.upper)"
   ]
  },
  {
   "cell_type": "code",
   "execution_count": null,
   "id": "plastic-shaft",
   "metadata": {},
   "outputs": [],
   "source": [
    "my_name.upper()"
   ]
  },
  {
   "cell_type": "code",
   "execution_count": null,
   "id": "occupied-gospel",
   "metadata": {},
   "outputs": [],
   "source": [
    "my_name"
   ]
  },
  {
   "cell_type": "code",
   "execution_count": null,
   "id": "quantitative-employee",
   "metadata": {},
   "outputs": [],
   "source": [
    "?str.isupper"
   ]
  },
  {
   "cell_type": "code",
   "execution_count": null,
   "id": "killing-fiction",
   "metadata": {},
   "outputs": [],
   "source": [
    "help(str.isupper)"
   ]
  },
  {
   "cell_type": "code",
   "execution_count": null,
   "id": "according-endorsement",
   "metadata": {},
   "outputs": [],
   "source": [
    "my_name.isupper()"
   ]
  },
  {
   "cell_type": "code",
   "execution_count": null,
   "id": "modern-nashville",
   "metadata": {},
   "outputs": [],
   "source": [
    "'32'.zfill(4)"
   ]
  },
  {
   "cell_type": "markdown",
   "id": "occupied-reviewer",
   "metadata": {},
   "source": [
    "### Python is a case sensitive language, so the following will not work."
   ]
  },
  {
   "cell_type": "code",
   "execution_count": null,
   "id": "excited-friday",
   "metadata": {},
   "outputs": [],
   "source": [
    "print(My_name)"
   ]
  },
  {
   "cell_type": "markdown",
   "id": "amber-morocco",
   "metadata": {},
   "source": [
    "Can also make numbers"
   ]
  },
  {
   "cell_type": "code",
   "execution_count": null,
   "id": "native-legislation",
   "metadata": {},
   "outputs": [],
   "source": [
    "my_number = 57\n",
    "my_number"
   ]
  },
  {
   "cell_type": "code",
   "execution_count": null,
   "id": "driven-honey",
   "metadata": {},
   "outputs": [],
   "source": [
    "type(my_number) # int = integer"
   ]
  },
  {
   "cell_type": "markdown",
   "id": "willing-uganda",
   "metadata": {},
   "source": [
    "## Operations - Python As A Calculator"
   ]
  },
  {
   "cell_type": "code",
   "execution_count": null,
   "id": "killing-house",
   "metadata": {},
   "outputs": [],
   "source": [
    "my_number + 100"
   ]
  },
  {
   "cell_type": "code",
   "execution_count": null,
   "id": "measured-grave",
   "metadata": {},
   "outputs": [],
   "source": [
    "my_number - 100"
   ]
  },
  {
   "cell_type": "code",
   "execution_count": null,
   "id": "sustained-bulgarian",
   "metadata": {},
   "outputs": [],
   "source": [
    "my_number * 100"
   ]
  },
  {
   "cell_type": "code",
   "execution_count": null,
   "id": "related-sigma",
   "metadata": {},
   "outputs": [],
   "source": [
    "my_number ** 2"
   ]
  },
  {
   "cell_type": "code",
   "execution_count": null,
   "id": "express-magic",
   "metadata": {},
   "outputs": [],
   "source": [
    "my_number // 3"
   ]
  },
  {
   "cell_type": "code",
   "execution_count": null,
   "id": "sought-optimization",
   "metadata": {},
   "outputs": [],
   "source": [
    "(my_number / 15) ** 2"
   ]
  },
  {
   "cell_type": "code",
   "execution_count": null,
   "id": "impressive-chest",
   "metadata": {},
   "outputs": [],
   "source": [
    "my_number % 2 # Mod"
   ]
  },
  {
   "cell_type": "markdown",
   "id": "recorded-recipe",
   "metadata": {},
   "source": [
    "## Lists - Collecting similar variables"
   ]
  },
  {
   "cell_type": "code",
   "execution_count": null,
   "id": "bulgarian-bacon",
   "metadata": {},
   "outputs": [],
   "source": [
    "fruits = ['apples', 'oranges']"
   ]
  },
  {
   "cell_type": "markdown",
   "id": "powerful-percentage",
   "metadata": {},
   "source": [
    "Lists can contain different types"
   ]
  },
  {
   "cell_type": "code",
   "execution_count": null,
   "id": "dedicated-sleeping",
   "metadata": {},
   "outputs": [],
   "source": [
    "another_list = ['name', 500]"
   ]
  },
  {
   "cell_type": "code",
   "execution_count": null,
   "id": "catholic-assembly",
   "metadata": {},
   "outputs": [],
   "source": [
    "another_list"
   ]
  },
  {
   "cell_type": "code",
   "execution_count": null,
   "id": "contemporary-accuracy",
   "metadata": {},
   "outputs": [],
   "source": [
    "fruits[0]"
   ]
  },
  {
   "cell_type": "code",
   "execution_count": null,
   "id": "addressed-herald",
   "metadata": {},
   "outputs": [],
   "source": [
    "fruits[1]"
   ]
  },
  {
   "cell_type": "code",
   "execution_count": null,
   "id": "passive-tracker",
   "metadata": {},
   "outputs": [],
   "source": [
    "len(fruits)"
   ]
  },
  {
   "cell_type": "markdown",
   "id": "domestic-delhi",
   "metadata": {},
   "source": [
    "## Loops - Doing something multiple times"
   ]
  },
  {
   "cell_type": "code",
   "execution_count": null,
   "id": "intelligent-green",
   "metadata": {},
   "outputs": [],
   "source": [
    "for name in ['anthony', 'mittens']:\n",
    "    print(name.upper())"
   ]
  },
  {
   "cell_type": "code",
   "execution_count": null,
   "id": "american-approval",
   "metadata": {},
   "outputs": [],
   "source": [
    "all_names = ['foo', 'bar']\n",
    "for name in all_names:\n",
    "    # name could be anything, but 'all_names' must be a variable\n",
    "    print(name)"
   ]
  },
  {
   "cell_type": "markdown",
   "id": "legal-rendering",
   "metadata": {},
   "source": [
    "## What if I want to apply a function / method to each element of a list?"
   ]
  },
  {
   "cell_type": "code",
   "execution_count": null,
   "id": "heated-amendment",
   "metadata": {},
   "outputs": [],
   "source": [
    "# Intermediate topic: List comprehensions\n",
    "[name.upper() for name in ['anthony', 'mittens']]"
   ]
  },
  {
   "cell_type": "markdown",
   "id": "stainless-timber",
   "metadata": {},
   "source": [
    "## Dictionaries - Collecting similar variables with names"
   ]
  },
  {
   "cell_type": "code",
   "execution_count": null,
   "id": "noble-wholesale",
   "metadata": {},
   "outputs": [],
   "source": [
    "my_dict = {'name':'anthony', 'favorite food':'gorditas'}\n",
    "my_dict"
   ]
  },
  {
   "cell_type": "code",
   "execution_count": null,
   "id": "pleasant-martin",
   "metadata": {},
   "outputs": [],
   "source": [
    "my_dict['name']"
   ]
  },
  {
   "cell_type": "code",
   "execution_count": null,
   "id": "knowing-jacksonville",
   "metadata": {},
   "outputs": [],
   "source": [
    "my_dict['favorite food']"
   ]
  },
  {
   "cell_type": "markdown",
   "id": "tutorial-flush",
   "metadata": {},
   "source": [
    "### Structures can be nested"
   ]
  },
  {
   "cell_type": "code",
   "execution_count": null,
   "id": "constitutional-vaccine",
   "metadata": {},
   "outputs": [],
   "source": [
    "nested = {\n",
    "    'names':['anthony', 'mittens'],\n",
    "    'cars':['honda', 'ford'],\n",
    "    'title':'Here is a sentence.'\n",
    "}"
   ]
  },
  {
   "cell_type": "code",
   "execution_count": null,
   "id": "ideal-poverty",
   "metadata": {},
   "outputs": [],
   "source": [
    "nested['names']"
   ]
  },
  {
   "cell_type": "code",
   "execution_count": null,
   "id": "informative-culture",
   "metadata": {},
   "outputs": [],
   "source": [
    "nested['cars']"
   ]
  },
  {
   "cell_type": "code",
   "execution_count": null,
   "id": "dying-local",
   "metadata": {},
   "outputs": [],
   "source": [
    "nested['title']"
   ]
  },
  {
   "cell_type": "markdown",
   "id": "affecting-bridge",
   "metadata": {},
   "source": [
    "## Conditional Logic: Making decisions"
   ]
  },
  {
   "cell_type": "code",
   "execution_count": null,
   "id": "laden-thermal",
   "metadata": {},
   "outputs": [],
   "source": [
    "10 > 5"
   ]
  },
  {
   "cell_type": "code",
   "execution_count": null,
   "id": "civilian-gentleman",
   "metadata": {},
   "outputs": [],
   "source": [
    "5 < 1"
   ]
  },
  {
   "cell_type": "code",
   "execution_count": null,
   "id": "protective-ribbon",
   "metadata": {},
   "outputs": [],
   "source": [
    "1 = 2"
   ]
  },
  {
   "cell_type": "markdown",
   "id": "single-collins",
   "metadata": {},
   "source": [
    "Use `==` to check equality"
   ]
  },
  {
   "cell_type": "code",
   "execution_count": null,
   "id": "personalized-persian",
   "metadata": {},
   "outputs": [],
   "source": [
    "1 == 2"
   ]
  },
  {
   "cell_type": "code",
   "execution_count": null,
   "id": "trying-playlist",
   "metadata": {},
   "outputs": [],
   "source": [
    "age = 10\n",
    "if age > 50:\n",
    "    # Use \\ to escape quotes\n",
    "    print('You\\'re over 50!')\n",
    "else:\n",
    "    print(\"You're less than 50\")"
   ]
  },
  {
   "cell_type": "code",
   "execution_count": null,
   "id": "owned-macro",
   "metadata": {},
   "outputs": [],
   "source": [
    "if age == 10 or age == 20 or age == 30:\n",
    "    print('Nice, your age is either 10 or 20 or 30')\n",
    "else:\n",
    "    print('Your age isnt in the list')"
   ]
  },
  {
   "cell_type": "code",
   "execution_count": null,
   "id": "wound-green",
   "metadata": {},
   "outputs": [],
   "source": [
    "if age in [10, 20, 30]:\n",
    "    print('Nice, your age is either 10 or 20')\n",
    "else:\n",
    "    print('Your age isnt in the list')"
   ]
  },
  {
   "cell_type": "markdown",
   "id": "copyrighted-curve",
   "metadata": {},
   "source": [
    "## Functions"
   ]
  }
 ],
 "metadata": {
  "kernelspec": {
   "display_name": "Python 3",
   "language": "python",
   "name": "python3"
  },
  "language_info": {
   "codemirror_mode": {
    "name": "ipython",
    "version": 3
   },
   "file_extension": ".py",
   "mimetype": "text/x-python",
   "name": "python",
   "nbconvert_exporter": "python",
   "pygments_lexer": "ipython3",
   "version": "3.9.2"
  }
 },
 "nbformat": 4,
 "nbformat_minor": 5
}
