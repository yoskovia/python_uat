{
 "cells": [
  {
   "cell_type": "markdown",
   "id": "close-converter",
   "metadata": {},
   "source": [
    "# Python Basics"
   ]
  },
  {
   "cell_type": "markdown",
   "id": "documented-speed",
   "metadata": {},
   "source": [
    "### Topic Agenda\n",
    "- Getting Help\n",
    "- Operations\n",
    "- Lists\n",
    "- Loops\n",
    "- Dictionaries\n",
    "- Conditional Logic\n",
    "- Functions"
   ]
  },
  {
   "cell_type": "code",
   "execution_count": null,
   "id": "documented-proof",
   "metadata": {},
   "outputs": [],
   "source": [
    "# Click this cell, and then click the \"Run\" button above to execute the code within\n",
    "print('Hello world!')"
   ]
  },
  {
   "cell_type": "markdown",
   "id": "floral-thickness",
   "metadata": {
    "tags": []
   },
   "source": [
    "## Getting Help"
   ]
  },
  {
   "cell_type": "markdown",
   "id": "capital-victorian",
   "metadata": {},
   "source": [
    "Sample situation: I'd like to capitalize all the letters in a variable.\n",
    "\n",
    "- `help(str)` will print out the help page for an object\n",
    "- `type(variable)` will show the type of a `variable`\n",
    "- `dir(variable)` will show you the things you can do with `variable`"
   ]
  },
  {
   "cell_type": "code",
   "execution_count": null,
   "id": "declared-barbados",
   "metadata": {},
   "outputs": [],
   "source": [
    "my_name = 'Anthony'\n",
    "type(my_name)"
   ]
  },
  {
   "cell_type": "code",
   "execution_count": null,
   "id": "thirty-nicaragua",
   "metadata": {
    "tags": []
   },
   "outputs": [],
   "source": [
    "# What operations can I perform on my_name?\n",
    "dir(my_name)"
   ]
  },
  {
   "cell_type": "code",
   "execution_count": null,
   "id": "insured-zoning",
   "metadata": {},
   "outputs": [],
   "source": [
    "# upper looks like what I want to do, I'd like to read more about it.\n",
    "help(my_name.upper)"
   ]
  },
  {
   "cell_type": "code",
   "execution_count": null,
   "id": "korean-frederick",
   "metadata": {},
   "outputs": [],
   "source": [
    "my_name.upper()"
   ]
  },
  {
   "cell_type": "code",
   "execution_count": null,
   "id": "grave-swedish",
   "metadata": {},
   "outputs": [],
   "source": [
    "my_name"
   ]
  },
  {
   "cell_type": "code",
   "execution_count": null,
   "id": "decreased-surge",
   "metadata": {},
   "outputs": [],
   "source": [
    "?my_name.isupper"
   ]
  },
  {
   "cell_type": "code",
   "execution_count": null,
   "id": "geographic-shadow",
   "metadata": {},
   "outputs": [],
   "source": [
    "help(my_name.isupper)"
   ]
  },
  {
   "cell_type": "code",
   "execution_count": null,
   "id": "sexual-islam",
   "metadata": {},
   "outputs": [],
   "source": [
    "my_name.isupper()"
   ]
  },
  {
   "cell_type": "code",
   "execution_count": null,
   "id": "defensive-cambodia",
   "metadata": {},
   "outputs": [],
   "source": [
    "'32'.zfill(4)"
   ]
  },
  {
   "cell_type": "markdown",
   "id": "suspected-baptist",
   "metadata": {},
   "source": [
    "### Python is a case sensitive language, so the following will not work."
   ]
  },
  {
   "cell_type": "code",
   "execution_count": null,
   "id": "impressed-massage",
   "metadata": {},
   "outputs": [],
   "source": [
    "print(My_name)"
   ]
  },
  {
   "cell_type": "markdown",
   "id": "acoustic-organizer",
   "metadata": {},
   "source": [
    "Can also make numbers"
   ]
  },
  {
   "cell_type": "code",
   "execution_count": null,
   "id": "streaming-generic",
   "metadata": {},
   "outputs": [],
   "source": [
    "my_number = 57\n",
    "my_number"
   ]
  },
  {
   "cell_type": "code",
   "execution_count": null,
   "id": "consolidated-whole",
   "metadata": {},
   "outputs": [],
   "source": [
    "type(my_number) # int = integer"
   ]
  },
  {
   "cell_type": "markdown",
   "id": "convenient-implementation",
   "metadata": {},
   "source": [
    "## Operations - Python As A Calculator"
   ]
  },
  {
   "cell_type": "code",
   "execution_count": null,
   "id": "critical-laundry",
   "metadata": {},
   "outputs": [],
   "source": [
    "my_number + 100"
   ]
  },
  {
   "cell_type": "code",
   "execution_count": null,
   "id": "secret-boundary",
   "metadata": {},
   "outputs": [],
   "source": [
    "my_number - 100"
   ]
  },
  {
   "cell_type": "code",
   "execution_count": null,
   "id": "increased-cross",
   "metadata": {},
   "outputs": [],
   "source": [
    "my_number * 100"
   ]
  },
  {
   "cell_type": "code",
   "execution_count": null,
   "id": "united-objective",
   "metadata": {},
   "outputs": [],
   "source": [
    "my_number ** 2"
   ]
  },
  {
   "cell_type": "code",
   "execution_count": null,
   "id": "cubic-turkey",
   "metadata": {},
   "outputs": [],
   "source": [
    "my_number // 3"
   ]
  },
  {
   "cell_type": "code",
   "execution_count": null,
   "id": "pharmaceutical-looking",
   "metadata": {},
   "outputs": [],
   "source": [
    "(my_number / 15) ** 2"
   ]
  },
  {
   "cell_type": "code",
   "execution_count": null,
   "id": "offshore-cornwall",
   "metadata": {},
   "outputs": [],
   "source": [
    "my_number % 2 # Mod"
   ]
  },
  {
   "cell_type": "markdown",
   "id": "minor-yellow",
   "metadata": {},
   "source": [
    "## Lists - Collecting similar variables"
   ]
  },
  {
   "cell_type": "code",
   "execution_count": null,
   "id": "consolidated-major",
   "metadata": {},
   "outputs": [],
   "source": [
    "fruits = ['apples', 'oranges']"
   ]
  },
  {
   "cell_type": "markdown",
   "id": "pleasant-treasurer",
   "metadata": {},
   "source": [
    "Lists can contain different types"
   ]
  },
  {
   "cell_type": "code",
   "execution_count": null,
   "id": "separated-configuration",
   "metadata": {},
   "outputs": [],
   "source": [
    "another_list = ['name', 500]"
   ]
  },
  {
   "cell_type": "code",
   "execution_count": null,
   "id": "ready-astrology",
   "metadata": {},
   "outputs": [],
   "source": [
    "another_list"
   ]
  },
  {
   "cell_type": "code",
   "execution_count": null,
   "id": "veterinary-adolescent",
   "metadata": {},
   "outputs": [],
   "source": [
    "fruits[0]"
   ]
  },
  {
   "cell_type": "code",
   "execution_count": null,
   "id": "prime-lawyer",
   "metadata": {},
   "outputs": [],
   "source": [
    "fruits[1]"
   ]
  },
  {
   "cell_type": "code",
   "execution_count": null,
   "id": "stretch-chorus",
   "metadata": {},
   "outputs": [],
   "source": [
    "len(fruits)"
   ]
  },
  {
   "cell_type": "markdown",
   "id": "clean-contemporary",
   "metadata": {},
   "source": [
    "## Loops - Doing something multiple times"
   ]
  },
  {
   "cell_type": "code",
   "execution_count": null,
   "id": "synthetic-joshua",
   "metadata": {},
   "outputs": [],
   "source": [
    "for name in ['anthony', 'mittens']:\n",
    "    print(name.upper())"
   ]
  },
  {
   "cell_type": "code",
   "execution_count": null,
   "id": "latter-green",
   "metadata": {},
   "outputs": [],
   "source": [
    "all_names = ['foo', 'bar']\n",
    "for name in all_names:\n",
    "    # name could be anything, but 'all_names' must be a variable\n",
    "    print(name)"
   ]
  },
  {
   "cell_type": "markdown",
   "id": "deadly-asbestos",
   "metadata": {},
   "source": [
    "## What if I want to apply a function / method to each element of a list?"
   ]
  },
  {
   "cell_type": "code",
   "execution_count": null,
   "id": "composed-kazakhstan",
   "metadata": {},
   "outputs": [],
   "source": [
    "# Intermediate topic: List comprehensions\n",
    "[name.upper() for name in ['anthony', 'mittens']]"
   ]
  },
  {
   "cell_type": "markdown",
   "id": "distinguished-dress",
   "metadata": {},
   "source": [
    "## Dictionaries - Collecting similar variables with names"
   ]
  },
  {
   "cell_type": "code",
   "execution_count": null,
   "id": "destroyed-wound",
   "metadata": {},
   "outputs": [],
   "source": [
    "my_dict = {'name':'anthony', 'favorite food':'gorditas'}\n",
    "my_dict"
   ]
  },
  {
   "cell_type": "code",
   "execution_count": null,
   "id": "institutional-brooks",
   "metadata": {},
   "outputs": [],
   "source": [
    "my_dict['name']"
   ]
  },
  {
   "cell_type": "code",
   "execution_count": null,
   "id": "sitting-programming",
   "metadata": {},
   "outputs": [],
   "source": [
    "my_dict['favorite food']"
   ]
  },
  {
   "cell_type": "markdown",
   "id": "agricultural-corps",
   "metadata": {},
   "source": [
    "### Structures can be nested"
   ]
  },
  {
   "cell_type": "code",
   "execution_count": null,
   "id": "mediterranean-european",
   "metadata": {},
   "outputs": [],
   "source": [
    "nested = {\n",
    "    'names':['anthony', 'mittens'],\n",
    "    'cars':['honda', 'ford'],\n",
    "    'title':'Here is a sentence.'\n",
    "}"
   ]
  },
  {
   "cell_type": "code",
   "execution_count": null,
   "id": "moving-guatemala",
   "metadata": {},
   "outputs": [],
   "source": [
    "nested['names']"
   ]
  },
  {
   "cell_type": "code",
   "execution_count": null,
   "id": "behind-steam",
   "metadata": {},
   "outputs": [],
   "source": [
    "nested['cars']"
   ]
  },
  {
   "cell_type": "code",
   "execution_count": null,
   "id": "smart-roulette",
   "metadata": {},
   "outputs": [],
   "source": [
    "nested['title']"
   ]
  },
  {
   "cell_type": "markdown",
   "id": "painful-investigator",
   "metadata": {},
   "source": [
    "## Conditional Logic: Making decisions"
   ]
  },
  {
   "cell_type": "code",
   "execution_count": null,
   "id": "selected-wings",
   "metadata": {},
   "outputs": [],
   "source": [
    "10 > 5"
   ]
  },
  {
   "cell_type": "code",
   "execution_count": null,
   "id": "outside-confidentiality",
   "metadata": {},
   "outputs": [],
   "source": [
    "5 < 1"
   ]
  },
  {
   "cell_type": "code",
   "execution_count": null,
   "id": "indirect-walnut",
   "metadata": {},
   "outputs": [],
   "source": [
    "1 = 2"
   ]
  },
  {
   "cell_type": "markdown",
   "id": "popular-border",
   "metadata": {},
   "source": [
    "Use `==` to check equality"
   ]
  },
  {
   "cell_type": "code",
   "execution_count": null,
   "id": "upper-player",
   "metadata": {},
   "outputs": [],
   "source": [
    "1 == 2"
   ]
  },
  {
   "cell_type": "code",
   "execution_count": null,
   "id": "protective-council",
   "metadata": {},
   "outputs": [],
   "source": [
    "age = 10\n",
    "if age > 50:\n",
    "    # Use \\ to escape quotes\n",
    "    print('You\\'re over 50!')\n",
    "else:\n",
    "    print(\"You're less than 50\")"
   ]
  },
  {
   "cell_type": "code",
   "execution_count": null,
   "id": "mineral-telling",
   "metadata": {},
   "outputs": [],
   "source": [
    "if age == 10 or age == 20 or age == 30:\n",
    "    print('Nice, your age is either 10 or 20 or 30')\n",
    "else:\n",
    "    print('Your age isnt in the list')"
   ]
  },
  {
   "cell_type": "code",
   "execution_count": null,
   "id": "polish-referral",
   "metadata": {},
   "outputs": [],
   "source": [
    "if age in [10, 20, 30]:\n",
    "    print('Nice, your age is either 10 or 20')\n",
    "else:\n",
    "    print('Your age isnt in the list')"
   ]
  },
  {
   "cell_type": "markdown",
   "id": "champion-valley",
   "metadata": {},
   "source": [
    "## Functions"
   ]
  }
 ],
 "metadata": {
  "kernelspec": {
   "display_name": "Python 3",
   "language": "python",
   "name": "python3"
  },
  "language_info": {
   "codemirror_mode": {
    "name": "ipython",
    "version": 3
   },
   "file_extension": ".py",
   "mimetype": "text/x-python",
   "name": "python",
   "nbconvert_exporter": "python",
   "pygments_lexer": "ipython3",
   "version": "3.9.2"
  }
 },
 "nbformat": 4,
 "nbformat_minor": 5
}
