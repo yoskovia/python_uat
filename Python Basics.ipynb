{
 "cells": [
  {
   "cell_type": "markdown",
   "id": "close-converter",
   "metadata": {},
   "source": [
    "# Python Basics"
   ]
  },
  {
   "cell_type": "markdown",
   "id": "documented-speed",
   "metadata": {},
   "source": [
    "### Topic Agenda\n",
    "- Getting Help\n",
    "- Operations\n",
    "- Lists\n",
    "- Functions"
   ]
  },
  {
   "cell_type": "code",
   "execution_count": null,
   "id": "documented-proof",
   "metadata": {},
   "outputs": [],
   "source": [
    "# Click this cell, and then click the \"Run\" button above to execute the code within\n",
    "print('Hello world!')"
   ]
  },
  {
   "cell_type": "markdown",
   "id": "floral-thickness",
   "metadata": {
    "tags": []
   },
   "source": [
    "## Getting Help"
   ]
  },
  {
   "cell_type": "markdown",
   "id": "capital-victorian",
   "metadata": {},
   "source": [
    "- `help(str)` will print out the help page for an object\n",
    "- `type(variable)` will show the type of a `variable`\n",
    "- `dir(variable)` will show you the things you can do with `variable`"
   ]
  },
  {
   "cell_type": "code",
   "execution_count": null,
   "id": "declared-barbados",
   "metadata": {},
   "outputs": [],
   "source": [
    "my_name = 'Anthony'\n",
    "# What is the type of my_name?\n",
    "type(my_name)"
   ]
  },
  {
   "cell_type": "code",
   "execution_count": null,
   "id": "thirty-nicaragua",
   "metadata": {
    "scrolled": true,
    "tags": []
   },
   "outputs": [],
   "source": [
    "# What operations can I perform on my_name?\n",
    "dir(my_name)"
   ]
  },
  {
   "cell_type": "code",
   "execution_count": null,
   "id": "insured-zoning",
   "metadata": {},
   "outputs": [],
   "source": [
    "# upper looks interesting, I'd like to read more about it.\n",
    "help(my_name.upper)"
   ]
  },
  {
   "cell_type": "code",
   "execution_count": null,
   "id": "korean-frederick",
   "metadata": {},
   "outputs": [],
   "source": [
    "my_name.upper()"
   ]
  },
  {
   "cell_type": "code",
   "execution_count": null,
   "id": "grave-swedish",
   "metadata": {},
   "outputs": [],
   "source": [
    "my_name"
   ]
  },
  {
   "cell_type": "code",
   "execution_count": null,
   "id": "decreased-surge",
   "metadata": {},
   "outputs": [],
   "source": [
    "help(my_name.isupper)"
   ]
  },
  {
   "cell_type": "code",
   "execution_count": null,
   "id": "sexual-islam",
   "metadata": {},
   "outputs": [],
   "source": [
    "my_name.isupper()"
   ]
  },
  {
   "cell_type": "code",
   "execution_count": null,
   "id": "defensive-cambodia",
   "metadata": {},
   "outputs": [],
   "source": [
    "'32'.zfill(5)"
   ]
  },
  {
   "cell_type": "code",
   "execution_count": null,
   "id": "fourth-personal",
   "metadata": {},
   "outputs": [],
   "source": [
    "foo = 1\n",
    "foo.zfill(2)"
   ]
  },
  {
   "cell_type": "code",
   "execution_count": null,
   "id": "labeled-variable",
   "metadata": {},
   "outputs": [],
   "source": [
    "str(foo).zfill(2)"
   ]
  },
  {
   "cell_type": "code",
   "execution_count": null,
   "id": "altered-source",
   "metadata": {},
   "outputs": [],
   "source": [
    "int('01')"
   ]
  },
  {
   "cell_type": "markdown",
   "id": "suspected-baptist",
   "metadata": {},
   "source": [
    "### Python is a case sensitive language, so the following will not work."
   ]
  },
  {
   "cell_type": "code",
   "execution_count": null,
   "id": "impressed-massage",
   "metadata": {},
   "outputs": [],
   "source": [
    "print(My_name)"
   ]
  },
  {
   "cell_type": "markdown",
   "id": "convenient-implementation",
   "metadata": {},
   "source": [
    "## Operations - Python As A Calculator"
   ]
  },
  {
   "cell_type": "code",
   "execution_count": null,
   "id": "flexible-banking",
   "metadata": {},
   "outputs": [],
   "source": [
    "print(15 + 100)\n",
    "\n",
    "print(15 - 100)\n",
    "\n",
    "print(15 * 100)\n",
    "\n",
    "print(15 ** 2)\n",
    "\n",
    "print(15 // 3)\n",
    "\n",
    "print((15 / 15) ** 2)\n",
    "\n",
    "print(15 % 2) # Mod"
   ]
  },
  {
   "cell_type": "markdown",
   "id": "minor-yellow",
   "metadata": {},
   "source": [
    "## Lists - Collecting similar variables"
   ]
  },
  {
   "cell_type": "code",
   "execution_count": null,
   "id": "consolidated-major",
   "metadata": {},
   "outputs": [],
   "source": [
    "fruits = ['apples', 'oranges']"
   ]
  },
  {
   "cell_type": "code",
   "execution_count": null,
   "id": "potential-nature",
   "metadata": {},
   "outputs": [],
   "source": [
    "for fruit in fruits:\n",
    "    print('I like ' + fruit)"
   ]
  },
  {
   "cell_type": "markdown",
   "id": "pleasant-treasurer",
   "metadata": {},
   "source": [
    "Lists can contain different types"
   ]
  },
  {
   "cell_type": "code",
   "execution_count": null,
   "id": "separated-configuration",
   "metadata": {},
   "outputs": [],
   "source": [
    "another_list = ['name', 500]"
   ]
  },
  {
   "cell_type": "code",
   "execution_count": null,
   "id": "ready-astrology",
   "metadata": {},
   "outputs": [],
   "source": [
    "another_list"
   ]
  },
  {
   "cell_type": "code",
   "execution_count": null,
   "id": "veterinary-adolescent",
   "metadata": {},
   "outputs": [],
   "source": [
    "fruits[0]"
   ]
  },
  {
   "cell_type": "code",
   "execution_count": null,
   "id": "prime-lawyer",
   "metadata": {},
   "outputs": [],
   "source": [
    "fruits[1]"
   ]
  },
  {
   "cell_type": "code",
   "execution_count": null,
   "id": "stretch-chorus",
   "metadata": {},
   "outputs": [],
   "source": [
    "len(fruits)"
   ]
  },
  {
   "cell_type": "markdown",
   "id": "deadly-asbestos",
   "metadata": {},
   "source": [
    "## Applying a function to each element of a list"
   ]
  },
  {
   "cell_type": "code",
   "execution_count": null,
   "id": "composed-kazakhstan",
   "metadata": {},
   "outputs": [],
   "source": [
    "[name.upper() for name in ['anthony', 'mittens']]"
   ]
  },
  {
   "cell_type": "markdown",
   "id": "champion-valley",
   "metadata": {},
   "source": [
    "## Functions"
   ]
  },
  {
   "cell_type": "code",
   "execution_count": null,
   "id": "dated-cricket",
   "metadata": {},
   "outputs": [],
   "source": [
    "def add_two(a, b):\n",
    "    return a + b\n",
    "\n",
    "add_two(1, 3)"
   ]
  },
  {
   "cell_type": "code",
   "execution_count": null,
   "id": "western-guinea",
   "metadata": {},
   "outputs": [],
   "source": [
    "def add_two(a, b):\n",
    "    \"\"\"\n",
    "    Add two numbers.\n",
    "    \n",
    "    a (int): First number\n",
    "    b (int): Second number\n",
    "    \n",
    "    Example usage:\n",
    "        add_two(1, 2)\n",
    "        >>> 3\n",
    "    \"\"\"\n",
    "    return a + b"
   ]
  },
  {
   "cell_type": "code",
   "execution_count": null,
   "id": "informational-rachel",
   "metadata": {},
   "outputs": [],
   "source": [
    "add_two(1, 2)"
   ]
  },
  {
   "cell_type": "code",
   "execution_count": null,
   "id": "interpreted-choice",
   "metadata": {},
   "outputs": [],
   "source": [
    "print(add_two.__doc__)"
   ]
  },
  {
   "cell_type": "code",
   "execution_count": null,
   "id": "frequent-money",
   "metadata": {},
   "outputs": [],
   "source": [
    "help(add_two)"
   ]
  }
 ],
 "metadata": {
  "kernelspec": {
   "display_name": "Python 3",
   "language": "python",
   "name": "python3"
  },
  "language_info": {
   "codemirror_mode": {
    "name": "ipython",
    "version": 3
   },
   "file_extension": ".py",
   "mimetype": "text/x-python",
   "name": "python",
   "nbconvert_exporter": "python",
   "pygments_lexer": "ipython3",
   "version": "3.9.2"
  }
 },
 "nbformat": 4,
 "nbformat_minor": 5
}
